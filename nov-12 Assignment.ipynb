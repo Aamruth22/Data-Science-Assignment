{
 "cells": [
  {
   "cell_type": "code",
   "execution_count": 2,
   "id": "369dd8ba",
   "metadata": {
    "executionInfo": {
     "elapsed": 11,
     "status": "ok",
     "timestamp": 1636894891475,
     "user": {
      "displayName": "Amruth Venkatesh",
      "photoUrl": "https://lh3.googleusercontent.com/a-/AOh14Ggkd6uYwuma1Jf-SJby-IVhgeLT2bGM8Nxb_xx0OQ=s64",
      "userId": "02895526989715514372"
     },
     "user_tz": -330
    },
    "id": "369dd8ba"
   },
   "outputs": [],
   "source": [
    "import numpy as np"
   ]
  },
  {
   "cell_type": "markdown",
   "id": "78beeef3",
   "metadata": {
    "id": "78beeef3"
   },
   "source": [
    "Question1- If A=[1 2 3,2 3 -1,-3 1 2]\n",
    "                     B=[1 0 2,0 1 2,1 2 0] these both are 3*3 matrix, obtain the product AB and\n",
    "                     BA and show that AB is not equal to BA.\n"
   ]
  },
  {
   "cell_type": "code",
   "execution_count": 3,
   "id": "c7a9d708",
   "metadata": {
    "id": "c7a9d708",
    "outputId": "4d627b27-68bd-4be7-f401-b3493b3779b6"
   },
   "outputs": [
    {
     "data": {
      "text/plain": [
       "array([[ 1,  2,  3],\n",
       "       [ 2,  3, -1],\n",
       "       [-3,  1,  2]])"
      ]
     },
     "execution_count": 3,
     "metadata": {},
     "output_type": "execute_result"
    }
   ],
   "source": [
    "A = np.array([[1,2,3],[2,3,-1],[-3,1,2]])\n",
    "A"
   ]
  },
  {
   "cell_type": "code",
   "execution_count": 4,
   "id": "64043f55",
   "metadata": {
    "id": "64043f55",
    "outputId": "a4d0929e-255b-4f55-e741-8d3df33d4a78"
   },
   "outputs": [
    {
     "data": {
      "text/plain": [
       "array([[1, 0, 2],\n",
       "       [0, 1, 2],\n",
       "       [1, 2, 0]])"
      ]
     },
     "execution_count": 4,
     "metadata": {},
     "output_type": "execute_result"
    }
   ],
   "source": [
    "B=np.array([[1, 0, 2],[0, 1, 2],[1, 2, 0]])\n",
    "B"
   ]
  },
  {
   "cell_type": "code",
   "execution_count": 5,
   "id": "98dcf0e8",
   "metadata": {
    "id": "98dcf0e8",
    "outputId": "bda64e21-e4a2-4049-fdfc-f9c8cdfa48b8"
   },
   "outputs": [
    {
     "data": {
      "text/plain": [
       "array([[ 4,  8,  6],\n",
       "       [ 1,  1, 10],\n",
       "       [-1,  5, -4]])"
      ]
     },
     "execution_count": 5,
     "metadata": {},
     "output_type": "execute_result"
    }
   ],
   "source": [
    "AB = np.dot(A,B)\n",
    "AB"
   ]
  },
  {
   "cell_type": "code",
   "execution_count": 6,
   "id": "a2d961fe",
   "metadata": {
    "id": "a2d961fe",
    "outputId": "82d17d70-eca9-4c31-b616-40cb0075ea1e"
   },
   "outputs": [
    {
     "data": {
      "text/plain": [
       "array([[-5,  4,  7],\n",
       "       [-4,  5,  3],\n",
       "       [ 5,  8,  1]])"
      ]
     },
     "execution_count": 6,
     "metadata": {},
     "output_type": "execute_result"
    }
   ],
   "source": [
    "BA = np.dot(B,A)\n",
    "BA"
   ]
  },
  {
   "cell_type": "code",
   "execution_count": 7,
   "id": "fcb2d84c",
   "metadata": {
    "id": "fcb2d84c",
    "outputId": "ff7f1efa-b28e-4c99-d9f0-879a8770445f"
   },
   "outputs": [
    {
     "data": {
      "text/plain": [
       "False"
      ]
     },
     "execution_count": 7,
     "metadata": {},
     "output_type": "execute_result"
    }
   ],
   "source": [
    "check = (AB == BA).all()\n",
    "check"
   ]
  },
  {
   "cell_type": "markdown",
   "id": "7dadc6d4",
   "metadata": {
    "id": "7dadc6d4"
   },
   "source": [
    "Question2-If A=[3 1,-1 2] is 2*2 matrix, show that (A*A) - 5A + 7 = 0.\n"
   ]
  },
  {
   "cell_type": "code",
   "execution_count": 8,
   "id": "1a9a6724",
   "metadata": {
    "colab": {
     "base_uri": "https://localhost:8080/"
    },
    "executionInfo": {
     "elapsed": 463,
     "status": "ok",
     "timestamp": 1636895153412,
     "user": {
      "displayName": "Amruth Venkatesh",
      "photoUrl": "https://lh3.googleusercontent.com/a-/AOh14Ggkd6uYwuma1Jf-SJby-IVhgeLT2bGM8Nxb_xx0OQ=s64",
      "userId": "02895526989715514372"
     },
     "user_tz": -330
    },
    "id": "1a9a6724",
    "outputId": "f4a936f3-9e84-4fe5-acb2-48be8d3aa597"
   },
   "outputs": [
    {
     "data": {
      "text/plain": [
       "array([[ 3,  1],\n",
       "       [-1,  2]])"
      ]
     },
     "execution_count": 8,
     "metadata": {},
     "output_type": "execute_result"
    }
   ],
   "source": [
    "A=np.array([[3,1],[-1 ,2]])\n",
    "A"
   ]
  },
  {
   "cell_type": "code",
   "execution_count": 9,
   "id": "c7244c06",
   "metadata": {
    "colab": {
     "base_uri": "https://localhost:8080/"
    },
    "executionInfo": {
     "elapsed": 530,
     "status": "ok",
     "timestamp": 1636895157316,
     "user": {
      "displayName": "Amruth Venkatesh",
      "photoUrl": "https://lh3.googleusercontent.com/a-/AOh14Ggkd6uYwuma1Jf-SJby-IVhgeLT2bGM8Nxb_xx0OQ=s64",
      "userId": "02895526989715514372"
     },
     "user_tz": -330
    },
    "id": "c7244c06",
    "outputId": "ea5d8b18-4d63-4736-98b5-7e7063ade255"
   },
   "outputs": [
    {
     "data": {
      "text/plain": [
       "array([[ 8,  5],\n",
       "       [-5,  3]])"
      ]
     },
     "execution_count": 9,
     "metadata": {},
     "output_type": "execute_result"
    }
   ],
   "source": [
    "AA = np.dot(A,A)\n",
    "AA"
   ]
  },
  {
   "cell_type": "code",
   "execution_count": 10,
   "id": "cb288cff",
   "metadata": {
    "colab": {
     "base_uri": "https://localhost:8080/"
    },
    "executionInfo": {
     "elapsed": 377,
     "status": "ok",
     "timestamp": 1636895303882,
     "user": {
      "displayName": "Amruth Venkatesh",
      "photoUrl": "https://lh3.googleusercontent.com/a-/AOh14Ggkd6uYwuma1Jf-SJby-IVhgeLT2bGM8Nxb_xx0OQ=s64",
      "userId": "02895526989715514372"
     },
     "user_tz": -330
    },
    "id": "cb288cff",
    "outputId": "12c34ae4-a0f0-428e-dc11-1877e982fe81"
   },
   "outputs": [
    {
     "data": {
      "text/plain": [
       "array([[1, 0],\n",
       "       [0, 1]])"
      ]
     },
     "execution_count": 10,
     "metadata": {},
     "output_type": "execute_result"
    }
   ],
   "source": [
    "I = np.array([[1,0],[0,1]])\n",
    "I"
   ]
  },
  {
   "cell_type": "code",
   "execution_count": 11,
   "id": "50db1bf8",
   "metadata": {
    "colab": {
     "base_uri": "https://localhost:8080/"
    },
    "executionInfo": {
     "elapsed": 486,
     "status": "ok",
     "timestamp": 1636895344994,
     "user": {
      "displayName": "Amruth Venkatesh",
      "photoUrl": "https://lh3.googleusercontent.com/a-/AOh14Ggkd6uYwuma1Jf-SJby-IVhgeLT2bGM8Nxb_xx0OQ=s64",
      "userId": "02895526989715514372"
     },
     "user_tz": -330
    },
    "id": "50db1bf8",
    "outputId": "8b842cdd-4654-4c3e-b069-0c503f822eca"
   },
   "outputs": [
    {
     "data": {
      "text/plain": [
       "array([[15,  5],\n",
       "       [-5, 10]])"
      ]
     },
     "execution_count": 11,
     "metadata": {},
     "output_type": "execute_result"
    }
   ],
   "source": [
    "x5A = np.dot(5,A)\n",
    "x5A"
   ]
  },
  {
   "cell_type": "code",
   "execution_count": 12,
   "id": "d51e23d1",
   "metadata": {
    "colab": {
     "base_uri": "https://localhost:8080/"
    },
    "executionInfo": {
     "elapsed": 410,
     "status": "ok",
     "timestamp": 1636895348169,
     "user": {
      "displayName": "Amruth Venkatesh",
      "photoUrl": "https://lh3.googleusercontent.com/a-/AOh14Ggkd6uYwuma1Jf-SJby-IVhgeLT2bGM8Nxb_xx0OQ=s64",
      "userId": "02895526989715514372"
     },
     "user_tz": -330
    },
    "id": "d51e23d1",
    "outputId": "45c081dd-4d49-4b8e-de7e-e3151bef9c72"
   },
   "outputs": [
    {
     "data": {
      "text/plain": [
       "array([[7, 0],\n",
       "       [0, 7]])"
      ]
     },
     "execution_count": 12,
     "metadata": {},
     "output_type": "execute_result"
    }
   ],
   "source": [
    "x7I = np.dot(7,I)\n",
    "x7I"
   ]
  },
  {
   "cell_type": "code",
   "execution_count": 13,
   "id": "5c4a9c7e",
   "metadata": {
    "colab": {
     "base_uri": "https://localhost:8080/"
    },
    "executionInfo": {
     "elapsed": 415,
     "status": "ok",
     "timestamp": 1636896459511,
     "user": {
      "displayName": "Amruth Venkatesh",
      "photoUrl": "https://lh3.googleusercontent.com/a-/AOh14Ggkd6uYwuma1Jf-SJby-IVhgeLT2bGM8Nxb_xx0OQ=s64",
      "userId": "02895526989715514372"
     },
     "user_tz": -330
    },
    "id": "5c4a9c7e",
    "outputId": "fb24f47d-0182-49e2-b747-8b716dee1b83"
   },
   "outputs": [
    {
     "data": {
      "text/plain": [
       "array([[-7,  0],\n",
       "       [ 0, -7]])"
      ]
     },
     "execution_count": 13,
     "metadata": {},
     "output_type": "execute_result"
    }
   ],
   "source": [
    "AAx5A = np.subtract(AA,x5A)\n",
    "AAx5A"
   ]
  },
  {
   "cell_type": "code",
   "execution_count": 14,
   "id": "294e8c2a",
   "metadata": {
    "colab": {
     "base_uri": "https://localhost:8080/"
    },
    "executionInfo": {
     "elapsed": 431,
     "status": "ok",
     "timestamp": 1636896515364,
     "user": {
      "displayName": "Amruth Venkatesh",
      "photoUrl": "https://lh3.googleusercontent.com/a-/AOh14Ggkd6uYwuma1Jf-SJby-IVhgeLT2bGM8Nxb_xx0OQ=s64",
      "userId": "02895526989715514372"
     },
     "user_tz": -330
    },
    "id": "294e8c2a",
    "outputId": "6641259f-7979-44eb-8798-428ed04a273e"
   },
   "outputs": [
    {
     "data": {
      "text/plain": [
       "array([[0, 0],\n",
       "       [0, 0]])"
      ]
     },
     "execution_count": 14,
     "metadata": {},
     "output_type": "execute_result"
    }
   ],
   "source": [
    "AAx5Ax7 = np.add(AAx5A,x7I)\n",
    "AAx5Ax7"
   ]
  },
  {
   "cell_type": "markdown",
   "id": "74f4565b",
   "metadata": {
    "id": "74f4565b"
   },
   "source": [
    "Question3-If A=[3 2 1,-5 0 6] and B=[-4 -5 -2, 3 1 8], verify that (A+B)’=A’+B’\n",
    "                  (where A’ means transpose of A).\n"
   ]
  },
  {
   "cell_type": "code",
   "execution_count": 15,
   "id": "714aca42",
   "metadata": {
    "colab": {
     "base_uri": "https://localhost:8080/"
    },
    "executionInfo": {
     "elapsed": 720,
     "status": "ok",
     "timestamp": 1636896746568,
     "user": {
      "displayName": "Amruth Venkatesh",
      "photoUrl": "https://lh3.googleusercontent.com/a-/AOh14Ggkd6uYwuma1Jf-SJby-IVhgeLT2bGM8Nxb_xx0OQ=s64",
      "userId": "02895526989715514372"
     },
     "user_tz": -330
    },
    "id": "714aca42",
    "outputId": "42bec094-9a73-4f53-ff3e-58c85bec2e7a"
   },
   "outputs": [
    {
     "data": {
      "text/plain": [
       "array([[ 3,  2,  1],\n",
       "       [-5,  0,  6]])"
      ]
     },
     "execution_count": 15,
     "metadata": {},
     "output_type": "execute_result"
    }
   ],
   "source": [
    "A=np.array([[3, 2, 1],[-5, 0 ,6]])\n",
    "A"
   ]
  },
  {
   "cell_type": "code",
   "execution_count": 16,
   "id": "aa5d09fc",
   "metadata": {
    "colab": {
     "base_uri": "https://localhost:8080/"
    },
    "executionInfo": {
     "elapsed": 12,
     "status": "ok",
     "timestamp": 1636896748423,
     "user": {
      "displayName": "Amruth Venkatesh",
      "photoUrl": "https://lh3.googleusercontent.com/a-/AOh14Ggkd6uYwuma1Jf-SJby-IVhgeLT2bGM8Nxb_xx0OQ=s64",
      "userId": "02895526989715514372"
     },
     "user_tz": -330
    },
    "id": "aa5d09fc",
    "outputId": "e81f5078-5ee8-4a18-d67a-8db6a2d30f79"
   },
   "outputs": [
    {
     "data": {
      "text/plain": [
       "array([[-4, -5, -2],\n",
       "       [ 3,  1,  8]])"
      ]
     },
     "execution_count": 16,
     "metadata": {},
     "output_type": "execute_result"
    }
   ],
   "source": [
    "B=np.array([[-4, -5, -2],[ 3, 1, 8]])\n",
    "B"
   ]
  },
  {
   "cell_type": "code",
   "execution_count": 17,
   "id": "abbc6cbe",
   "metadata": {
    "colab": {
     "base_uri": "https://localhost:8080/"
    },
    "executionInfo": {
     "elapsed": 522,
     "status": "ok",
     "timestamp": 1636896779235,
     "user": {
      "displayName": "Amruth Venkatesh",
      "photoUrl": "https://lh3.googleusercontent.com/a-/AOh14Ggkd6uYwuma1Jf-SJby-IVhgeLT2bGM8Nxb_xx0OQ=s64",
      "userId": "02895526989715514372"
     },
     "user_tz": -330
    },
    "id": "abbc6cbe",
    "outputId": "11131582-1495-435f-be8b-fba84295ba43"
   },
   "outputs": [
    {
     "data": {
      "text/plain": [
       "array([[-1, -3, -1],\n",
       "       [-2,  1, 14]])"
      ]
     },
     "execution_count": 17,
     "metadata": {},
     "output_type": "execute_result"
    }
   ],
   "source": [
    "AB = np.add(A,B)\n",
    "AB"
   ]
  },
  {
   "cell_type": "code",
   "execution_count": 18,
   "id": "5274a3a4",
   "metadata": {
    "colab": {
     "base_uri": "https://localhost:8080/"
    },
    "executionInfo": {
     "elapsed": 667,
     "status": "ok",
     "timestamp": 1636896793663,
     "user": {
      "displayName": "Amruth Venkatesh",
      "photoUrl": "https://lh3.googleusercontent.com/a-/AOh14Ggkd6uYwuma1Jf-SJby-IVhgeLT2bGM8Nxb_xx0OQ=s64",
      "userId": "02895526989715514372"
     },
     "user_tz": -330
    },
    "id": "5274a3a4",
    "outputId": "d0f750c8-80e0-4244-95e6-5f16c968a342"
   },
   "outputs": [
    {
     "data": {
      "text/plain": [
       "array([[-1, -2],\n",
       "       [-3,  1],\n",
       "       [-1, 14]])"
      ]
     },
     "execution_count": 18,
     "metadata": {},
     "output_type": "execute_result"
    }
   ],
   "source": [
    "AB_transpose = np.transpose(AB)\n",
    "AB_transpose"
   ]
  },
  {
   "cell_type": "code",
   "execution_count": 19,
   "id": "f16b12f4",
   "metadata": {
    "colab": {
     "base_uri": "https://localhost:8080/"
    },
    "executionInfo": {
     "elapsed": 438,
     "status": "ok",
     "timestamp": 1636896808439,
     "user": {
      "displayName": "Amruth Venkatesh",
      "photoUrl": "https://lh3.googleusercontent.com/a-/AOh14Ggkd6uYwuma1Jf-SJby-IVhgeLT2bGM8Nxb_xx0OQ=s64",
      "userId": "02895526989715514372"
     },
     "user_tz": -330
    },
    "id": "f16b12f4",
    "outputId": "20550e53-eff8-4754-e157-7983b4815cf7"
   },
   "outputs": [
    {
     "data": {
      "text/plain": [
       "array([[ 3, -5],\n",
       "       [ 2,  0],\n",
       "       [ 1,  6]])"
      ]
     },
     "execution_count": 19,
     "metadata": {},
     "output_type": "execute_result"
    }
   ],
   "source": [
    "A_transpose = np.transpose(A)\n",
    "A_transpose"
   ]
  },
  {
   "cell_type": "code",
   "execution_count": 20,
   "id": "be100817",
   "metadata": {
    "colab": {
     "base_uri": "https://localhost:8080/"
    },
    "executionInfo": {
     "elapsed": 428,
     "status": "ok",
     "timestamp": 1636896811493,
     "user": {
      "displayName": "Amruth Venkatesh",
      "photoUrl": "https://lh3.googleusercontent.com/a-/AOh14Ggkd6uYwuma1Jf-SJby-IVhgeLT2bGM8Nxb_xx0OQ=s64",
      "userId": "02895526989715514372"
     },
     "user_tz": -330
    },
    "id": "be100817",
    "outputId": "4222cc28-9aff-4605-c091-5928e599aaeb"
   },
   "outputs": [
    {
     "data": {
      "text/plain": [
       "array([[-4,  3],\n",
       "       [-5,  1],\n",
       "       [-2,  8]])"
      ]
     },
     "execution_count": 20,
     "metadata": {},
     "output_type": "execute_result"
    }
   ],
   "source": [
    "B_transpose = np.transpose(B)\n",
    "B_transpose"
   ]
  },
  {
   "cell_type": "code",
   "execution_count": 21,
   "id": "960ec375",
   "metadata": {
    "colab": {
     "base_uri": "https://localhost:8080/"
    },
    "executionInfo": {
     "elapsed": 410,
     "status": "ok",
     "timestamp": 1636897022738,
     "user": {
      "displayName": "Amruth Venkatesh",
      "photoUrl": "https://lh3.googleusercontent.com/a-/AOh14Ggkd6uYwuma1Jf-SJby-IVhgeLT2bGM8Nxb_xx0OQ=s64",
      "userId": "02895526989715514372"
     },
     "user_tz": -330
    },
    "id": "960ec375",
    "outputId": "b593b4c9-bdc9-4f5b-d119-22270d5ecaed"
   },
   "outputs": [
    {
     "data": {
      "text/plain": [
       "array([[-1, -2],\n",
       "       [-3,  1],\n",
       "       [-1, 14]])"
      ]
     },
     "execution_count": 21,
     "metadata": {},
     "output_type": "execute_result"
    }
   ],
   "source": [
    "AB_transposee = np.add(A_transpose,B_transpose)\n",
    "AB_transposee"
   ]
  },
  {
   "cell_type": "code",
   "execution_count": 22,
   "id": "3284391e",
   "metadata": {
    "colab": {
     "base_uri": "https://localhost:8080/"
    },
    "executionInfo": {
     "elapsed": 500,
     "status": "ok",
     "timestamp": 1636897030871,
     "user": {
      "displayName": "Amruth Venkatesh",
      "photoUrl": "https://lh3.googleusercontent.com/a-/AOh14Ggkd6uYwuma1Jf-SJby-IVhgeLT2bGM8Nxb_xx0OQ=s64",
      "userId": "02895526989715514372"
     },
     "user_tz": -330
    },
    "id": "3284391e",
    "outputId": "3eb4421f-7be3-4aee-ab81-c16e65601cd8"
   },
   "outputs": [
    {
     "data": {
      "text/plain": [
       "True"
      ]
     },
     "execution_count": 22,
     "metadata": {},
     "output_type": "execute_result"
    }
   ],
   "source": [
    "verify = (AB_transpose == AB_transposee).all()\n",
    "verify"
   ]
  },
  {
   "cell_type": "markdown",
   "id": "b089129a",
   "metadata": {
    "id": "b089129a"
   },
   "source": [
    "\n",
    "Question4- If A=[3 -4,1 -1], show that A - A’ is skewsymmetric, where A’ is the transpose                                   \n",
    "                   of  A. \n"
   ]
  },
  {
   "cell_type": "code",
   "execution_count": 23,
   "id": "2ebcb68c",
   "metadata": {
    "colab": {
     "base_uri": "https://localhost:8080/"
    },
    "executionInfo": {
     "elapsed": 423,
     "status": "ok",
     "timestamp": 1636897070365,
     "user": {
      "displayName": "Amruth Venkatesh",
      "photoUrl": "https://lh3.googleusercontent.com/a-/AOh14Ggkd6uYwuma1Jf-SJby-IVhgeLT2bGM8Nxb_xx0OQ=s64",
      "userId": "02895526989715514372"
     },
     "user_tz": -330
    },
    "id": "2ebcb68c",
    "outputId": "33e2bdf5-62e3-4f25-9dea-0604c59e123a"
   },
   "outputs": [
    {
     "data": {
      "text/plain": [
       "array([[ 3, -4],\n",
       "       [ 1, -1]])"
      ]
     },
     "execution_count": 23,
     "metadata": {},
     "output_type": "execute_result"
    }
   ],
   "source": [
    "A = np.array([[3,-4],[1,-1]])\n",
    "A"
   ]
  },
  {
   "cell_type": "code",
   "execution_count": 24,
   "id": "5fbf1bd9",
   "metadata": {
    "colab": {
     "base_uri": "https://localhost:8080/"
    },
    "executionInfo": {
     "elapsed": 460,
     "status": "ok",
     "timestamp": 1636897082352,
     "user": {
      "displayName": "Amruth Venkatesh",
      "photoUrl": "https://lh3.googleusercontent.com/a-/AOh14Ggkd6uYwuma1Jf-SJby-IVhgeLT2bGM8Nxb_xx0OQ=s64",
      "userId": "02895526989715514372"
     },
     "user_tz": -330
    },
    "id": "5fbf1bd9",
    "outputId": "8ad01394-fb01-455c-8aa7-e905ee6e5884"
   },
   "outputs": [
    {
     "data": {
      "text/plain": [
       "array([[ 3,  1],\n",
       "       [-4, -1]])"
      ]
     },
     "execution_count": 24,
     "metadata": {},
     "output_type": "execute_result"
    }
   ],
   "source": [
    "A_transpose = np.transpose(A)\n",
    "A_transpose"
   ]
  },
  {
   "cell_type": "code",
   "execution_count": 25,
   "id": "9d0c6117",
   "metadata": {
    "colab": {
     "base_uri": "https://localhost:8080/"
    },
    "executionInfo": {
     "elapsed": 598,
     "status": "ok",
     "timestamp": 1636897134464,
     "user": {
      "displayName": "Amruth Venkatesh",
      "photoUrl": "https://lh3.googleusercontent.com/a-/AOh14Ggkd6uYwuma1Jf-SJby-IVhgeLT2bGM8Nxb_xx0OQ=s64",
      "userId": "02895526989715514372"
     },
     "user_tz": -330
    },
    "id": "9d0c6117",
    "outputId": "18777381-395e-407c-b1fc-1f34b439b94c"
   },
   "outputs": [
    {
     "data": {
      "text/plain": [
       "array([[ 0, -5],\n",
       "       [ 5,  0]])"
      ]
     },
     "execution_count": 25,
     "metadata": {},
     "output_type": "execute_result"
    }
   ],
   "source": [
    "A_A_transpose = np.subtract(A,A_transpose)\n",
    "A_A_transpose"
   ]
  },
  {
   "cell_type": "code",
   "execution_count": 26,
   "id": "9e3f15a2",
   "metadata": {
    "colab": {
     "base_uri": "https://localhost:8080/"
    },
    "executionInfo": {
     "elapsed": 13,
     "status": "ok",
     "timestamp": 1636897136623,
     "user": {
      "displayName": "Amruth Venkatesh",
      "photoUrl": "https://lh3.googleusercontent.com/a-/AOh14Ggkd6uYwuma1Jf-SJby-IVhgeLT2bGM8Nxb_xx0OQ=s64",
      "userId": "02895526989715514372"
     },
     "user_tz": -330
    },
    "id": "9e3f15a2",
    "outputId": "3a17cc2c-0bbb-448b-c108-c30ffebec41c"
   },
   "outputs": [
    {
     "data": {
      "text/plain": [
       "array([[ 0,  5],\n",
       "       [-5,  0]])"
      ]
     },
     "execution_count": 26,
     "metadata": {},
     "output_type": "execute_result"
    }
   ],
   "source": [
    "skewsymmetric = np.dot(-1,A_A_transpose)\n",
    "skewsymmetric"
   ]
  },
  {
   "cell_type": "markdown",
   "id": "ee0f1cf2",
   "metadata": {
    "id": "ee0f1cf2"
   },
   "source": [
    "If A=[5 7 3,1 2 6,1 4 3]\n",
    "                     B=[1 2 0,4 0 5,0 3 2] these both are 3*3 matrix, then verify that (AB)’=B’A’\n"
   ]
  },
  {
   "cell_type": "code",
   "execution_count": 27,
   "id": "bbd0796f",
   "metadata": {
    "colab": {
     "base_uri": "https://localhost:8080/"
    },
    "executionInfo": {
     "elapsed": 508,
     "status": "ok",
     "timestamp": 1636897201228,
     "user": {
      "displayName": "Amruth Venkatesh",
      "photoUrl": "https://lh3.googleusercontent.com/a-/AOh14Ggkd6uYwuma1Jf-SJby-IVhgeLT2bGM8Nxb_xx0OQ=s64",
      "userId": "02895526989715514372"
     },
     "user_tz": -330
    },
    "id": "bbd0796f",
    "outputId": "2f07586d-37b8-4d64-ee99-97c1e83b9b87"
   },
   "outputs": [
    {
     "data": {
      "text/plain": [
       "array([[5, 7, 3],\n",
       "       [1, 2, 6],\n",
       "       [1, 4, 3]])"
      ]
     },
     "execution_count": 27,
     "metadata": {},
     "output_type": "execute_result"
    }
   ],
   "source": [
    "A=np.array([[5, 7, 3],[1, 2, 6],[1, 4, 3]])\n",
    "A"
   ]
  },
  {
   "cell_type": "code",
   "execution_count": 28,
   "id": "016dbdf0",
   "metadata": {
    "colab": {
     "base_uri": "https://localhost:8080/"
    },
    "executionInfo": {
     "elapsed": 9,
     "status": "ok",
     "timestamp": 1636897203116,
     "user": {
      "displayName": "Amruth Venkatesh",
      "photoUrl": "https://lh3.googleusercontent.com/a-/AOh14Ggkd6uYwuma1Jf-SJby-IVhgeLT2bGM8Nxb_xx0OQ=s64",
      "userId": "02895526989715514372"
     },
     "user_tz": -330
    },
    "id": "016dbdf0",
    "outputId": "ab04eb7f-86c8-4621-908c-4162325da42a"
   },
   "outputs": [
    {
     "data": {
      "text/plain": [
       "array([[1, 2, 0],\n",
       "       [4, 0, 5],\n",
       "       [0, 3, 2]])"
      ]
     },
     "execution_count": 28,
     "metadata": {},
     "output_type": "execute_result"
    }
   ],
   "source": [
    "B=np.array([[1 ,2, 0],[4, 0, 5],[0, 3, 2]])\n",
    "B"
   ]
  },
  {
   "cell_type": "code",
   "execution_count": 29,
   "id": "02f2be8d",
   "metadata": {
    "colab": {
     "base_uri": "https://localhost:8080/"
    },
    "executionInfo": {
     "elapsed": 10,
     "status": "ok",
     "timestamp": 1636897205632,
     "user": {
      "displayName": "Amruth Venkatesh",
      "photoUrl": "https://lh3.googleusercontent.com/a-/AOh14Ggkd6uYwuma1Jf-SJby-IVhgeLT2bGM8Nxb_xx0OQ=s64",
      "userId": "02895526989715514372"
     },
     "user_tz": -330
    },
    "id": "02f2be8d",
    "outputId": "90f3c098-e5a9-4c14-f040-0b18f3076d51"
   },
   "outputs": [
    {
     "data": {
      "text/plain": [
       "array([[33, 19, 41],\n",
       "       [ 9, 20, 22],\n",
       "       [17, 11, 26]])"
      ]
     },
     "execution_count": 29,
     "metadata": {},
     "output_type": "execute_result"
    }
   ],
   "source": [
    "AB = np.dot(A,B)\n",
    "AB"
   ]
  },
  {
   "cell_type": "code",
   "execution_count": 30,
   "id": "d6c8f866",
   "metadata": {
    "colab": {
     "base_uri": "https://localhost:8080/"
    },
    "executionInfo": {
     "elapsed": 459,
     "status": "ok",
     "timestamp": 1636897207809,
     "user": {
      "displayName": "Amruth Venkatesh",
      "photoUrl": "https://lh3.googleusercontent.com/a-/AOh14Ggkd6uYwuma1Jf-SJby-IVhgeLT2bGM8Nxb_xx0OQ=s64",
      "userId": "02895526989715514372"
     },
     "user_tz": -330
    },
    "id": "d6c8f866",
    "outputId": "a872c153-ab5d-4984-c44a-c96bf332b5db"
   },
   "outputs": [
    {
     "data": {
      "text/plain": [
       "array([[33,  9, 17],\n",
       "       [19, 20, 11],\n",
       "       [41, 22, 26]])"
      ]
     },
     "execution_count": 30,
     "metadata": {},
     "output_type": "execute_result"
    }
   ],
   "source": [
    "AB_transpose = np.transpose(AB)\n",
    "AB_transpose"
   ]
  },
  {
   "cell_type": "code",
   "execution_count": 31,
   "id": "bbd01d0e",
   "metadata": {
    "colab": {
     "base_uri": "https://localhost:8080/"
    },
    "executionInfo": {
     "elapsed": 419,
     "status": "ok",
     "timestamp": 1636897219297,
     "user": {
      "displayName": "Amruth Venkatesh",
      "photoUrl": "https://lh3.googleusercontent.com/a-/AOh14Ggkd6uYwuma1Jf-SJby-IVhgeLT2bGM8Nxb_xx0OQ=s64",
      "userId": "02895526989715514372"
     },
     "user_tz": -330
    },
    "id": "bbd01d0e",
    "outputId": "cf581be4-e0ab-4c0e-8136-5c47cd5e0e86"
   },
   "outputs": [
    {
     "data": {
      "text/plain": [
       "array([[5, 1, 1],\n",
       "       [7, 2, 4],\n",
       "       [3, 6, 3]])"
      ]
     },
     "execution_count": 31,
     "metadata": {},
     "output_type": "execute_result"
    }
   ],
   "source": [
    "A_transpose = np.transpose(A)\n",
    "A_transpose"
   ]
  },
  {
   "cell_type": "code",
   "execution_count": 32,
   "id": "20b3c8f1",
   "metadata": {
    "colab": {
     "base_uri": "https://localhost:8080/"
    },
    "executionInfo": {
     "elapsed": 405,
     "status": "ok",
     "timestamp": 1636897228599,
     "user": {
      "displayName": "Amruth Venkatesh",
      "photoUrl": "https://lh3.googleusercontent.com/a-/AOh14Ggkd6uYwuma1Jf-SJby-IVhgeLT2bGM8Nxb_xx0OQ=s64",
      "userId": "02895526989715514372"
     },
     "user_tz": -330
    },
    "id": "20b3c8f1",
    "outputId": "85ca8c19-e144-4760-c75d-7b3be550f8b0"
   },
   "outputs": [
    {
     "data": {
      "text/plain": [
       "array([[1, 4, 0],\n",
       "       [2, 0, 3],\n",
       "       [0, 5, 2]])"
      ]
     },
     "execution_count": 32,
     "metadata": {},
     "output_type": "execute_result"
    }
   ],
   "source": [
    "B_transpose = np.transpose(B)\n",
    "B_transpose"
   ]
  },
  {
   "cell_type": "code",
   "execution_count": 33,
   "id": "9de7f804",
   "metadata": {
    "colab": {
     "base_uri": "https://localhost:8080/"
    },
    "executionInfo": {
     "elapsed": 486,
     "status": "ok",
     "timestamp": 1636897253967,
     "user": {
      "displayName": "Amruth Venkatesh",
      "photoUrl": "https://lh3.googleusercontent.com/a-/AOh14Ggkd6uYwuma1Jf-SJby-IVhgeLT2bGM8Nxb_xx0OQ=s64",
      "userId": "02895526989715514372"
     },
     "user_tz": -330
    },
    "id": "9de7f804",
    "outputId": "2edabbf6-034a-4a5d-cbe6-acec3cef95d1"
   },
   "outputs": [
    {
     "data": {
      "text/plain": [
       "array([[33,  9, 17],\n",
       "       [19, 20, 11],\n",
       "       [41, 22, 26]])"
      ]
     },
     "execution_count": 33,
     "metadata": {},
     "output_type": "execute_result"
    }
   ],
   "source": [
    "BA_transpose = np.dot(B_transpose,A_transpose)\n",
    "BA_transpose"
   ]
  },
  {
   "cell_type": "code",
   "execution_count": 34,
   "id": "91755502",
   "metadata": {
    "colab": {
     "base_uri": "https://localhost:8080/"
    },
    "executionInfo": {
     "elapsed": 816,
     "status": "ok",
     "timestamp": 1636897302086,
     "user": {
      "displayName": "Amruth Venkatesh",
      "photoUrl": "https://lh3.googleusercontent.com/a-/AOh14Ggkd6uYwuma1Jf-SJby-IVhgeLT2bGM8Nxb_xx0OQ=s64",
      "userId": "02895526989715514372"
     },
     "user_tz": -330
    },
    "id": "91755502",
    "outputId": "c99fe2b6-b129-4601-f794-93a6aa364eb2"
   },
   "outputs": [
    {
     "data": {
      "text/plain": [
       "True"
      ]
     },
     "execution_count": 34,
     "metadata": {},
     "output_type": "execute_result"
    }
   ],
   "source": [
    "verify = (AB_transpose == BA_transpose).all() \n",
    "verify"
   ]
  },
  {
   "cell_type": "markdown",
   "id": "3f1047b8",
   "metadata": {
    "id": "3f1047b8"
   },
   "source": [
    "Question6-  find the inverse of A=[2 -1 1,3 0 -1,2 6 0]. Verify that A*A(inverse)= I  \n",
    "                   (identity matrices of order 3*3)\n",
    "\n"
   ]
  },
  {
   "cell_type": "code",
   "execution_count": 35,
   "id": "2bc3558f",
   "metadata": {
    "colab": {
     "base_uri": "https://localhost:8080/"
    },
    "executionInfo": {
     "elapsed": 652,
     "status": "ok",
     "timestamp": 1636897357167,
     "user": {
      "displayName": "Amruth Venkatesh",
      "photoUrl": "https://lh3.googleusercontent.com/a-/AOh14Ggkd6uYwuma1Jf-SJby-IVhgeLT2bGM8Nxb_xx0OQ=s64",
      "userId": "02895526989715514372"
     },
     "user_tz": -330
    },
    "id": "2bc3558f",
    "outputId": "bdc4a519-f1c2-4b01-c046-de2cb3e1b547"
   },
   "outputs": [
    {
     "data": {
      "text/plain": [
       "array([[ 2, -1,  1],\n",
       "       [ 3,  0, -1],\n",
       "       [ 2,  6,  0]])"
      ]
     },
     "execution_count": 35,
     "metadata": {},
     "output_type": "execute_result"
    }
   ],
   "source": [
    "A = np.array([[2,-1,1],[3,0,-1],[2,6,0]])\n",
    "A"
   ]
  },
  {
   "cell_type": "code",
   "execution_count": 36,
   "id": "68f84235",
   "metadata": {
    "colab": {
     "base_uri": "https://localhost:8080/"
    },
    "executionInfo": {
     "elapsed": 671,
     "status": "ok",
     "timestamp": 1636897359790,
     "user": {
      "displayName": "Amruth Venkatesh",
      "photoUrl": "https://lh3.googleusercontent.com/a-/AOh14Ggkd6uYwuma1Jf-SJby-IVhgeLT2bGM8Nxb_xx0OQ=s64",
      "userId": "02895526989715514372"
     },
     "user_tz": -330
    },
    "id": "68f84235",
    "outputId": "a4cf4bf5-b56f-4708-8c80-a18296efa6f7"
   },
   "outputs": [
    {
     "data": {
      "text/plain": [
       "array([[ 0.1875 ,  0.1875 ,  0.03125],\n",
       "       [-0.0625 , -0.0625 ,  0.15625],\n",
       "       [ 0.5625 , -0.4375 ,  0.09375]])"
      ]
     },
     "execution_count": 36,
     "metadata": {},
     "output_type": "execute_result"
    }
   ],
   "source": [
    "A_inverse = np.linalg.inv(A)\n",
    "A_inverse"
   ]
  },
  {
   "cell_type": "code",
   "execution_count": 37,
   "id": "6fcd0382",
   "metadata": {
    "colab": {
     "base_uri": "https://localhost:8080/"
    },
    "executionInfo": {
     "elapsed": 410,
     "status": "ok",
     "timestamp": 1636897367055,
     "user": {
      "displayName": "Amruth Venkatesh",
      "photoUrl": "https://lh3.googleusercontent.com/a-/AOh14Ggkd6uYwuma1Jf-SJby-IVhgeLT2bGM8Nxb_xx0OQ=s64",
      "userId": "02895526989715514372"
     },
     "user_tz": -330
    },
    "id": "6fcd0382",
    "outputId": "af38bb1a-2017-4de9-b1f2-6d846b537f17"
   },
   "outputs": [
    {
     "data": {
      "text/plain": [
       "array([[1., 0., 0.],\n",
       "       [0., 1., 0.],\n",
       "       [0., 0., 1.]])"
      ]
     },
     "execution_count": 37,
     "metadata": {},
     "output_type": "execute_result"
    }
   ],
   "source": [
    "I = np.identity(3)\n",
    "I"
   ]
  },
  {
   "cell_type": "code",
   "execution_count": 38,
   "id": "3ce930f9",
   "metadata": {
    "colab": {
     "base_uri": "https://localhost:8080/"
    },
    "executionInfo": {
     "elapsed": 413,
     "status": "ok",
     "timestamp": 1636897392114,
     "user": {
      "displayName": "Amruth Venkatesh",
      "photoUrl": "https://lh3.googleusercontent.com/a-/AOh14Ggkd6uYwuma1Jf-SJby-IVhgeLT2bGM8Nxb_xx0OQ=s64",
      "userId": "02895526989715514372"
     },
     "user_tz": -330
    },
    "id": "3ce930f9",
    "outputId": "26e51000-1422-4c1a-e00f-c1c1fbabdd77"
   },
   "outputs": [
    {
     "data": {
      "text/plain": [
       "array([[1.00000000e+00, 5.55111512e-17, 0.00000000e+00],\n",
       "       [0.00000000e+00, 1.00000000e+00, 0.00000000e+00],\n",
       "       [0.00000000e+00, 0.00000000e+00, 1.00000000e+00]])"
      ]
     },
     "execution_count": 38,
     "metadata": {},
     "output_type": "execute_result"
    }
   ],
   "source": [
    "AA_inverse = np.dot(A,A_inverse)\n",
    "AA_inverse"
   ]
  },
  {
   "cell_type": "code",
   "execution_count": 39,
   "id": "e3473c67",
   "metadata": {
    "colab": {
     "base_uri": "https://localhost:8080/"
    },
    "executionInfo": {
     "elapsed": 589,
     "status": "ok",
     "timestamp": 1636897454804,
     "user": {
      "displayName": "Amruth Venkatesh",
      "photoUrl": "https://lh3.googleusercontent.com/a-/AOh14Ggkd6uYwuma1Jf-SJby-IVhgeLT2bGM8Nxb_xx0OQ=s64",
      "userId": "02895526989715514372"
     },
     "user_tz": -330
    },
    "id": "e3473c67",
    "outputId": "aa889647-fab4-4b41-91a8-ab48a3b488c9"
   },
   "outputs": [
    {
     "data": {
      "text/plain": [
       "array([[1., 0., 0.],\n",
       "       [0., 1., 0.],\n",
       "       [0., 0., 1.]])"
      ]
     },
     "execution_count": 39,
     "metadata": {},
     "output_type": "execute_result"
    }
   ],
   "source": [
    "AA_inv = np.round_(AA_inverse, decimals = 3)\n",
    "AA_inv"
   ]
  },
  {
   "cell_type": "code",
   "execution_count": 40,
   "id": "4f7f3e46",
   "metadata": {
    "colab": {
     "base_uri": "https://localhost:8080/"
    },
    "executionInfo": {
     "elapsed": 442,
     "status": "ok",
     "timestamp": 1636897507088,
     "user": {
      "displayName": "Amruth Venkatesh",
      "photoUrl": "https://lh3.googleusercontent.com/a-/AOh14Ggkd6uYwuma1Jf-SJby-IVhgeLT2bGM8Nxb_xx0OQ=s64",
      "userId": "02895526989715514372"
     },
     "user_tz": -330
    },
    "id": "4f7f3e46",
    "outputId": "17002cdd-6d5c-41d0-901d-801743921ac1"
   },
   "outputs": [
    {
     "data": {
      "text/plain": [
       "True"
      ]
     },
     "execution_count": 40,
     "metadata": {},
     "output_type": "execute_result"
    }
   ],
   "source": [
    "verify = (AA_inv == I).all()\n",
    "verify"
   ]
  },
  {
   "cell_type": "markdown",
   "id": "7d953bc1",
   "metadata": {
    "id": "7d953bc1"
   },
   "source": [
    "Question7- Verify that (inverse of AB) = (inverse of B)*(inverse of A) for the matrices A=[2 1,\n",
    "                   5 3] and B=[4 5,3 4]"
   ]
  },
  {
   "cell_type": "code",
   "execution_count": 41,
   "id": "7655da5e",
   "metadata": {
    "colab": {
     "base_uri": "https://localhost:8080/"
    },
    "executionInfo": {
     "elapsed": 15,
     "status": "ok",
     "timestamp": 1636897925714,
     "user": {
      "displayName": "Amruth Venkatesh",
      "photoUrl": "https://lh3.googleusercontent.com/a-/AOh14Ggkd6uYwuma1Jf-SJby-IVhgeLT2bGM8Nxb_xx0OQ=s64",
      "userId": "02895526989715514372"
     },
     "user_tz": -330
    },
    "id": "7655da5e",
    "outputId": "1fbccf3a-2eef-4dfb-fde4-fd11f0ab89de"
   },
   "outputs": [
    {
     "data": {
      "text/plain": [
       "array([[2, 1],\n",
       "       [5, 3]])"
      ]
     },
     "execution_count": 41,
     "metadata": {},
     "output_type": "execute_result"
    }
   ],
   "source": [
    "A=np.array([[2, 1],[ 5, 3]])\n",
    "A"
   ]
  },
  {
   "cell_type": "code",
   "execution_count": 42,
   "id": "4ab0298c",
   "metadata": {
    "colab": {
     "base_uri": "https://localhost:8080/"
    },
    "executionInfo": {
     "elapsed": 13,
     "status": "ok",
     "timestamp": 1636897927373,
     "user": {
      "displayName": "Amruth Venkatesh",
      "photoUrl": "https://lh3.googleusercontent.com/a-/AOh14Ggkd6uYwuma1Jf-SJby-IVhgeLT2bGM8Nxb_xx0OQ=s64",
      "userId": "02895526989715514372"
     },
     "user_tz": -330
    },
    "id": "4ab0298c",
    "outputId": "94798a2e-85a8-449d-cd43-88da9e7233a4"
   },
   "outputs": [
    {
     "data": {
      "text/plain": [
       "array([[4, 5],\n",
       "       [3, 4]])"
      ]
     },
     "execution_count": 42,
     "metadata": {},
     "output_type": "execute_result"
    }
   ],
   "source": [
    "B = np.array([[4 ,5],[3, 4]])\n",
    "B"
   ]
  },
  {
   "cell_type": "code",
   "execution_count": 43,
   "id": "33cc7d13",
   "metadata": {
    "executionInfo": {
     "elapsed": 437,
     "status": "ok",
     "timestamp": 1636897931525,
     "user": {
      "displayName": "Amruth Venkatesh",
      "photoUrl": "https://lh3.googleusercontent.com/a-/AOh14Ggkd6uYwuma1Jf-SJby-IVhgeLT2bGM8Nxb_xx0OQ=s64",
      "userId": "02895526989715514372"
     },
     "user_tz": -330
    },
    "id": "33cc7d13"
   },
   "outputs": [],
   "source": [
    "inverse_A = np.linalg.inv(A)\n",
    "inverse_B = np.linalg.inv(B)"
   ]
  },
  {
   "cell_type": "code",
   "execution_count": 44,
   "id": "c7066225",
   "metadata": {
    "colab": {
     "base_uri": "https://localhost:8080/"
    },
    "executionInfo": {
     "elapsed": 14,
     "status": "ok",
     "timestamp": 1636897549725,
     "user": {
      "displayName": "Amruth Venkatesh",
      "photoUrl": "https://lh3.googleusercontent.com/a-/AOh14Ggkd6uYwuma1Jf-SJby-IVhgeLT2bGM8Nxb_xx0OQ=s64",
      "userId": "02895526989715514372"
     },
     "user_tz": -330
    },
    "id": "c7066225",
    "outputId": "bedd2827-d47c-4f94-b31f-26839e268231"
   },
   "outputs": [
    {
     "data": {
      "text/plain": [
       "array([[11, 14],\n",
       "       [29, 37]])"
      ]
     },
     "execution_count": 44,
     "metadata": {},
     "output_type": "execute_result"
    }
   ],
   "source": [
    "AB = np.dot(A,B)\n",
    "AB"
   ]
  },
  {
   "cell_type": "code",
   "execution_count": 45,
   "id": "53681ec8",
   "metadata": {
    "colab": {
     "base_uri": "https://localhost:8080/"
    },
    "executionInfo": {
     "elapsed": 420,
     "status": "ok",
     "timestamp": 1636897583089,
     "user": {
      "displayName": "Amruth Venkatesh",
      "photoUrl": "https://lh3.googleusercontent.com/a-/AOh14Ggkd6uYwuma1Jf-SJby-IVhgeLT2bGM8Nxb_xx0OQ=s64",
      "userId": "02895526989715514372"
     },
     "user_tz": -330
    },
    "id": "53681ec8",
    "outputId": "f3ac925c-07c8-41ef-bebd-7e69669c9cf0"
   },
   "outputs": [
    {
     "data": {
      "text/plain": [
       "array([[ 37., -14.],\n",
       "       [-29.,  11.]])"
      ]
     },
     "execution_count": 45,
     "metadata": {},
     "output_type": "execute_result"
    }
   ],
   "source": [
    "inverse_AB = np.linalg.inv(AB)\n",
    "inverse_AB = np.round(inverse_AB,decimals=0)\n",
    "inverse_AB"
   ]
  },
  {
   "cell_type": "code",
   "execution_count": 46,
   "id": "88a856a3",
   "metadata": {
    "colab": {
     "base_uri": "https://localhost:8080/"
    },
    "executionInfo": {
     "elapsed": 429,
     "status": "ok",
     "timestamp": 1636898292639,
     "user": {
      "displayName": "Amruth Venkatesh",
      "photoUrl": "https://lh3.googleusercontent.com/a-/AOh14Ggkd6uYwuma1Jf-SJby-IVhgeLT2bGM8Nxb_xx0OQ=s64",
      "userId": "02895526989715514372"
     },
     "user_tz": -330
    },
    "id": "88a856a3",
    "outputId": "d6f9e495-cf77-4ce9-80c2-ef931f05628c"
   },
   "outputs": [
    {
     "data": {
      "text/plain": [
       "array([[ 37., -14.],\n",
       "       [-29.,  11.]])"
      ]
     },
     "execution_count": 46,
     "metadata": {},
     "output_type": "execute_result"
    }
   ],
   "source": [
    "inverse_BA = np.dot(inverse_B,inverse_A)\n",
    "inverse_BA = np.round(inverse_BA,decimals=0)\n",
    "inverse_BA"
   ]
  },
  {
   "cell_type": "code",
   "execution_count": 47,
   "id": "738dd8af",
   "metadata": {
    "colab": {
     "base_uri": "https://localhost:8080/"
    },
    "executionInfo": {
     "elapsed": 479,
     "status": "ok",
     "timestamp": 1636898295784,
     "user": {
      "displayName": "Amruth Venkatesh",
      "photoUrl": "https://lh3.googleusercontent.com/a-/AOh14Ggkd6uYwuma1Jf-SJby-IVhgeLT2bGM8Nxb_xx0OQ=s64",
      "userId": "02895526989715514372"
     },
     "user_tz": -330
    },
    "id": "738dd8af",
    "outputId": "9a02cd3d-3513-4055-fd0e-b4dcb13afb0d"
   },
   "outputs": [
    {
     "data": {
      "text/plain": [
       "True"
      ]
     },
     "execution_count": 47,
     "metadata": {},
     "output_type": "execute_result"
    }
   ],
   "source": [
    "verify = (inverse_AB == inverse_BA).all()\n",
    "verify"
   ]
  },
  {
   "cell_type": "markdown",
   "id": "a1d3c898",
   "metadata": {
    "id": "a1d3c898"
   },
   "source": [
    "Question1-\n",
    " Suppose that the data for analysis includes the attribute age. The age values for the data  are (in increasing order) 13, 15, 16, 16, 19, 20, 20, 21, 22, 22, 25, 25, 25, 25, 30, 33, 33, 35, 35, 35, 35, 36, 40, 45, 46, 52, 70.\n",
    " (a) What is the mean of the data? What is the median? \n",
    " (b) What is the mode of the data?\n",
    " (c) What is the range of the data? \n",
    "(d) Can you find the first quartile (Q1) and the third quartile (Q3) of the data?\n"
   ]
  },
  {
   "cell_type": "code",
   "execution_count": 48,
   "id": "08800558",
   "metadata": {
    "executionInfo": {
     "elapsed": 581,
     "status": "ok",
     "timestamp": 1636898439035,
     "user": {
      "displayName": "Amruth Venkatesh",
      "photoUrl": "https://lh3.googleusercontent.com/a-/AOh14Ggkd6uYwuma1Jf-SJby-IVhgeLT2bGM8Nxb_xx0OQ=s64",
      "userId": "02895526989715514372"
     },
     "user_tz": -330
    },
    "id": "08800558"
   },
   "outputs": [],
   "source": [
    "age = [13, 15, 16, 16, 19, 20, 20, 21, 22, 22, 25, 25, 25, 25, 30, 33, 33, 35, 35, 35, 35, 36, 40, 45, 46, 52, 70]"
   ]
  },
  {
   "cell_type": "code",
   "execution_count": 49,
   "id": "4e86a965",
   "metadata": {
    "colab": {
     "base_uri": "https://localhost:8080/"
    },
    "executionInfo": {
     "elapsed": 11,
     "status": "ok",
     "timestamp": 1636898440991,
     "user": {
      "displayName": "Amruth Venkatesh",
      "photoUrl": "https://lh3.googleusercontent.com/a-/AOh14Ggkd6uYwuma1Jf-SJby-IVhgeLT2bGM8Nxb_xx0OQ=s64",
      "userId": "02895526989715514372"
     },
     "user_tz": -330
    },
    "id": "4e86a965",
    "outputId": "b3be1905-2360-400d-ebf1-64004c3de798"
   },
   "outputs": [
    {
     "data": {
      "text/plain": [
       "[13,\n",
       " 15,\n",
       " 16,\n",
       " 16,\n",
       " 19,\n",
       " 20,\n",
       " 20,\n",
       " 21,\n",
       " 22,\n",
       " 22,\n",
       " 25,\n",
       " 25,\n",
       " 25,\n",
       " 25,\n",
       " 30,\n",
       " 33,\n",
       " 33,\n",
       " 35,\n",
       " 35,\n",
       " 35,\n",
       " 35,\n",
       " 36,\n",
       " 40,\n",
       " 45,\n",
       " 46,\n",
       " 52,\n",
       " 70]"
      ]
     },
     "execution_count": 49,
     "metadata": {},
     "output_type": "execute_result"
    }
   ],
   "source": [
    "age"
   ]
  },
  {
   "cell_type": "code",
   "execution_count": 50,
   "id": "415efceb",
   "metadata": {
    "colab": {
     "base_uri": "https://localhost:8080/"
    },
    "executionInfo": {
     "elapsed": 581,
     "status": "ok",
     "timestamp": 1636898443898,
     "user": {
      "displayName": "Amruth Venkatesh",
      "photoUrl": "https://lh3.googleusercontent.com/a-/AOh14Ggkd6uYwuma1Jf-SJby-IVhgeLT2bGM8Nxb_xx0OQ=s64",
      "userId": "02895526989715514372"
     },
     "user_tz": -330
    },
    "id": "415efceb",
    "outputId": "500929bf-d5c2-4417-a31e-632f8e9f3790"
   },
   "outputs": [
    {
     "data": {
      "text/plain": [
       "29.962962962962962"
      ]
     },
     "execution_count": 50,
     "metadata": {},
     "output_type": "execute_result"
    }
   ],
   "source": [
    "mean = np.mean(age)\n",
    "mean"
   ]
  },
  {
   "cell_type": "code",
   "execution_count": 51,
   "id": "ead167a8",
   "metadata": {
    "colab": {
     "base_uri": "https://localhost:8080/"
    },
    "executionInfo": {
     "elapsed": 490,
     "status": "ok",
     "timestamp": 1636898446926,
     "user": {
      "displayName": "Amruth Venkatesh",
      "photoUrl": "https://lh3.googleusercontent.com/a-/AOh14Ggkd6uYwuma1Jf-SJby-IVhgeLT2bGM8Nxb_xx0OQ=s64",
      "userId": "02895526989715514372"
     },
     "user_tz": -330
    },
    "id": "ead167a8",
    "outputId": "78fc7fc6-6fba-42a4-aeba-429ed11ff81f"
   },
   "outputs": [
    {
     "data": {
      "text/plain": [
       "25.0"
      ]
     },
     "execution_count": 51,
     "metadata": {},
     "output_type": "execute_result"
    }
   ],
   "source": [
    "median = np.median(age)\n",
    "median"
   ]
  },
  {
   "cell_type": "code",
   "execution_count": 52,
   "id": "d08e3ee1",
   "metadata": {
    "colab": {
     "base_uri": "https://localhost:8080/",
     "height": 301
    },
    "executionInfo": {
     "elapsed": 503,
     "status": "error",
     "timestamp": 1636898453998,
     "user": {
      "displayName": "Amruth Venkatesh",
      "photoUrl": "https://lh3.googleusercontent.com/a-/AOh14Ggkd6uYwuma1Jf-SJby-IVhgeLT2bGM8Nxb_xx0OQ=s64",
      "userId": "02895526989715514372"
     },
     "user_tz": -330
    },
    "id": "d08e3ee1",
    "outputId": "99bd59f7-86df-4015-9b50-ae73485df6ef"
   },
   "outputs": [
    {
     "data": {
      "text/plain": [
       "[25, 35]"
      ]
     },
     "execution_count": 52,
     "metadata": {},
     "output_type": "execute_result"
    }
   ],
   "source": [
    "import statistics\n",
    "mode = statistics.multimode(age)\n",
    "mode"
   ]
  },
  {
   "cell_type": "code",
   "execution_count": 53,
   "id": "912b1695",
   "metadata": {
    "id": "912b1695",
    "outputId": "d4a6896b-0e33-4f36-9e1e-782b515591cf"
   },
   "outputs": [
    {
     "data": {
      "text/plain": [
       "70"
      ]
     },
     "execution_count": 53,
     "metadata": {},
     "output_type": "execute_result"
    }
   ],
   "source": [
    "max_value = max(age)\n",
    "max_value"
   ]
  },
  {
   "cell_type": "code",
   "execution_count": 54,
   "id": "3d2084de",
   "metadata": {
    "id": "3d2084de",
    "outputId": "ddda617b-3b45-496b-f24d-4812e8e2e096"
   },
   "outputs": [
    {
     "data": {
      "text/plain": [
       "13"
      ]
     },
     "execution_count": 54,
     "metadata": {},
     "output_type": "execute_result"
    }
   ],
   "source": [
    "min_value = min(age)\n",
    "min_value"
   ]
  },
  {
   "cell_type": "code",
   "execution_count": 55,
   "id": "8a66c3f1",
   "metadata": {
    "id": "8a66c3f1",
    "outputId": "e7f12d40-1230-4af0-fbcf-e31be6b731b5"
   },
   "outputs": [
    {
     "data": {
      "text/plain": [
       "57"
      ]
     },
     "execution_count": 55,
     "metadata": {},
     "output_type": "execute_result"
    }
   ],
   "source": [
    "range = max_value - min_value\n",
    "range"
   ]
  },
  {
   "cell_type": "code",
   "execution_count": 56,
   "id": "85d5d98c",
   "metadata": {
    "id": "85d5d98c",
    "outputId": "91af1a4a-d23d-4d76-9bf1-bc12820adf92"
   },
   "outputs": [
    {
     "data": {
      "text/plain": [
       "20.5"
      ]
     },
     "execution_count": 56,
     "metadata": {},
     "output_type": "execute_result"
    }
   ],
   "source": [
    "first_quantile = np.quantile(age,0.25)\n",
    "first_quantile"
   ]
  },
  {
   "cell_type": "code",
   "execution_count": 57,
   "id": "865c7bc4",
   "metadata": {
    "id": "865c7bc4",
    "outputId": "b62558fd-a1d3-4dc8-aa5b-429d9e796396"
   },
   "outputs": [
    {
     "data": {
      "text/plain": [
       "35.0"
      ]
     },
     "execution_count": 57,
     "metadata": {},
     "output_type": "execute_result"
    }
   ],
   "source": [
    "third_qunatile = np.quantile(age,0.75)\n",
    "third_qunatile"
   ]
  },
  {
   "cell_type": "code",
   "execution_count": 58,
   "id": "ec55ad3d",
   "metadata": {
    "id": "ec55ad3d",
    "outputId": "6fbd8360-c87a-4a50-bd74-22ea7c470f86"
   },
   "outputs": [
    {
     "data": {
      "text/plain": [
       "14.5"
      ]
     },
     "execution_count": 58,
     "metadata": {},
     "output_type": "execute_result"
    }
   ],
   "source": [
    "IQR = third_qunatile - first_quantile\n",
    "IQR"
   ]
  },
  {
   "cell_type": "markdown",
   "id": "ccca5038",
   "metadata": {
    "id": "ccca5038"
   },
   "source": [
    "Question 3- \n",
    "A tire manufacturer wants to determine the inner diameter of a certain grade of the tire. Ideally, the diameter would be 570 mm. The data are as follows: 572, 572, 573, 568, 569, 575, 565, 570.\n",
    " (a) Find the mean and median.\n",
    " (b)  standard deviation, and range.\n",
    " (c) Using the calculated statistics in parts (a) and (b), can you comment on the quality of the tires?\n"
   ]
  },
  {
   "cell_type": "code",
   "execution_count": 59,
   "id": "35b008ca",
   "metadata": {
    "executionInfo": {
     "elapsed": 628,
     "status": "ok",
     "timestamp": 1636898362137,
     "user": {
      "displayName": "Amruth Venkatesh",
      "photoUrl": "https://lh3.googleusercontent.com/a-/AOh14Ggkd6uYwuma1Jf-SJby-IVhgeLT2bGM8Nxb_xx0OQ=s64",
      "userId": "02895526989715514372"
     },
     "user_tz": -330
    },
    "id": "35b008ca"
   },
   "outputs": [],
   "source": [
    "data = [ 572, 572, 573, 568, 569, 575, 565, 570]"
   ]
  },
  {
   "cell_type": "markdown",
   "id": "129634d8",
   "metadata": {
    "id": "129634d8"
   },
   "source": [
    "## Diameter of tire = 570mm "
   ]
  },
  {
   "cell_type": "code",
   "execution_count": 60,
   "id": "0957cc9f",
   "metadata": {
    "colab": {
     "base_uri": "https://localhost:8080/"
    },
    "executionInfo": {
     "elapsed": 625,
     "status": "ok",
     "timestamp": 1636898369927,
     "user": {
      "displayName": "Amruth Venkatesh",
      "photoUrl": "https://lh3.googleusercontent.com/a-/AOh14Ggkd6uYwuma1Jf-SJby-IVhgeLT2bGM8Nxb_xx0OQ=s64",
      "userId": "02895526989715514372"
     },
     "user_tz": -330
    },
    "id": "0957cc9f",
    "outputId": "d73dcc81-b65a-4d16-bfdd-97a697db51cd"
   },
   "outputs": [
    {
     "data": {
      "text/plain": [
       "570.5"
      ]
     },
     "execution_count": 60,
     "metadata": {},
     "output_type": "execute_result"
    }
   ],
   "source": [
    "tire_mean = np.mean(data)\n",
    "tire_mean"
   ]
  },
  {
   "cell_type": "code",
   "execution_count": 61,
   "id": "53c366a2",
   "metadata": {
    "colab": {
     "base_uri": "https://localhost:8080/"
    },
    "executionInfo": {
     "elapsed": 426,
     "status": "ok",
     "timestamp": 1636898377392,
     "user": {
      "displayName": "Amruth Venkatesh",
      "photoUrl": "https://lh3.googleusercontent.com/a-/AOh14Ggkd6uYwuma1Jf-SJby-IVhgeLT2bGM8Nxb_xx0OQ=s64",
      "userId": "02895526989715514372"
     },
     "user_tz": -330
    },
    "id": "53c366a2",
    "outputId": "be513fb1-bdc5-4b20-84d4-8cf1bc064bbc"
   },
   "outputs": [
    {
     "data": {
      "text/plain": [
       "571.0"
      ]
     },
     "execution_count": 61,
     "metadata": {},
     "output_type": "execute_result"
    }
   ],
   "source": [
    "tire_median = np.median(data)\n",
    "tire_median"
   ]
  },
  {
   "cell_type": "code",
   "execution_count": 62,
   "id": "32b9e01a",
   "metadata": {
    "colab": {
     "base_uri": "https://localhost:8080/"
    },
    "executionInfo": {
     "elapsed": 516,
     "status": "ok",
     "timestamp": 1636898461467,
     "user": {
      "displayName": "Amruth Venkatesh",
      "photoUrl": "https://lh3.googleusercontent.com/a-/AOh14Ggkd6uYwuma1Jf-SJby-IVhgeLT2bGM8Nxb_xx0OQ=s64",
      "userId": "02895526989715514372"
     },
     "user_tz": -330
    },
    "id": "32b9e01a",
    "outputId": "560d9b6b-7e60-4770-ec23-29f535198c61"
   },
   "outputs": [
    {
     "data": {
      "text/plain": [
       "3.1622776601683795"
      ]
     },
     "execution_count": 62,
     "metadata": {},
     "output_type": "execute_result"
    }
   ],
   "source": [
    "standard_deviation = statistics.stdev(data)\n",
    "standard_deviation"
   ]
  },
  {
   "cell_type": "code",
   "execution_count": 63,
   "id": "2c2b943e",
   "metadata": {
    "executionInfo": {
     "elapsed": 585,
     "status": "ok",
     "timestamp": 1636898473452,
     "user": {
      "displayName": "Amruth Venkatesh",
      "photoUrl": "https://lh3.googleusercontent.com/a-/AOh14Ggkd6uYwuma1Jf-SJby-IVhgeLT2bGM8Nxb_xx0OQ=s64",
      "userId": "02895526989715514372"
     },
     "user_tz": -330
    },
    "id": "2c2b943e"
   },
   "outputs": [],
   "source": [
    "max_tire = max(data)\n",
    "min_tire = min(data)"
   ]
  },
  {
   "cell_type": "code",
   "execution_count": 64,
   "id": "63ad1aae",
   "metadata": {
    "colab": {
     "base_uri": "https://localhost:8080/"
    },
    "executionInfo": {
     "elapsed": 488,
     "status": "ok",
     "timestamp": 1636898493827,
     "user": {
      "displayName": "Amruth Venkatesh",
      "photoUrl": "https://lh3.googleusercontent.com/a-/AOh14Ggkd6uYwuma1Jf-SJby-IVhgeLT2bGM8Nxb_xx0OQ=s64",
      "userId": "02895526989715514372"
     },
     "user_tz": -330
    },
    "id": "63ad1aae",
    "outputId": "ff039866-752a-4015-8070-34d3016460c5"
   },
   "outputs": [
    {
     "data": {
      "text/plain": [
       "10"
      ]
     },
     "execution_count": 64,
     "metadata": {},
     "output_type": "execute_result"
    }
   ],
   "source": [
    "tire_range = max_tire - min_tire\n",
    "tire_range"
   ]
  },
  {
   "cell_type": "markdown",
   "id": "a91eb746",
   "metadata": {
    "id": "a91eb746"
   },
   "source": [
    "# Mean and median of the tire is more than the Diameter of the tire."
   ]
  },
  {
   "cell_type": "markdown",
   "id": "1a99f97a",
   "metadata": {
    "id": "1a99f97a"
   },
   "source": [
    "# 3.162 is deviated from the average value of inner diameter of the tire."
   ]
  },
  {
   "cell_type": "markdown",
   "id": "cd0a587d",
   "metadata": {
    "id": "cd0a587d"
   },
   "source": [
    "#  We get Standard deviation as 3.162 ,which is greater than 2 therefore there is a more spread of tire data."
   ]
  },
  {
   "cell_type": "code",
   "execution_count": null,
   "id": "142eeba1",
   "metadata": {
    "id": "142eeba1"
   },
   "outputs": [],
   "source": []
  }
 ],
 "metadata": {
  "colab": {
   "name": "Copy of Nov 12 - Assignment.ipynb",
   "provenance": [
    {
     "file_id": "1CpHOtxhN6omwinb1n2k5JtD2Z-p-BOEi",
     "timestamp": 1636898524165
    }
   ]
  },
  "kernelspec": {
   "display_name": "Python 3 (ipykernel)",
   "language": "python",
   "name": "python3"
  },
  "language_info": {
   "codemirror_mode": {
    "name": "ipython",
    "version": 3
   },
   "file_extension": ".py",
   "mimetype": "text/x-python",
   "name": "python",
   "nbconvert_exporter": "python",
   "pygments_lexer": "ipython3",
   "version": "3.8.10"
  }
 },
 "nbformat": 4,
 "nbformat_minor": 5
}
