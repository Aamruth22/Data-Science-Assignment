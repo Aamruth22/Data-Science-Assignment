{
 "cells": [
  {
   "cell_type": "code",
   "execution_count": 1,
   "id": "85e12f6d",
   "metadata": {},
   "outputs": [],
   "source": [
    "import numpy as np\n",
    "import pandas as pd\n",
    "import matplotlib.pyplot as plt"
   ]
  },
  {
   "cell_type": "code",
   "execution_count": 2,
   "id": "0fefe64f",
   "metadata": {},
   "outputs": [],
   "source": [
    "df=pd.read_csv('Rainfall_1901_2016.csv')"
   ]
  },
  {
   "cell_type": "code",
   "execution_count": 3,
   "id": "8cdaf4e1",
   "metadata": {},
   "outputs": [
    {
     "data": {
      "text/html": [
       "<div>\n",
       "<style scoped>\n",
       "    .dataframe tbody tr th:only-of-type {\n",
       "        vertical-align: middle;\n",
       "    }\n",
       "\n",
       "    .dataframe tbody tr th {\n",
       "        vertical-align: top;\n",
       "    }\n",
       "\n",
       "    .dataframe thead th {\n",
       "        text-align: right;\n",
       "    }\n",
       "</style>\n",
       "<table border=\"1\" class=\"dataframe\">\n",
       "  <thead>\n",
       "    <tr style=\"text-align: right;\">\n",
       "      <th></th>\n",
       "      <th>Rainfall - (MM)</th>\n",
       "      <th>Year</th>\n",
       "      <th>Month</th>\n",
       "    </tr>\n",
       "  </thead>\n",
       "  <tbody>\n",
       "    <tr>\n",
       "      <th>0</th>\n",
       "      <td>40.4258</td>\n",
       "      <td>1901</td>\n",
       "      <td>January</td>\n",
       "    </tr>\n",
       "    <tr>\n",
       "      <th>1</th>\n",
       "      <td>12.3022</td>\n",
       "      <td>1901</td>\n",
       "      <td>February</td>\n",
       "    </tr>\n",
       "    <tr>\n",
       "      <th>2</th>\n",
       "      <td>25.5119</td>\n",
       "      <td>1901</td>\n",
       "      <td>March</td>\n",
       "    </tr>\n",
       "    <tr>\n",
       "      <th>3</th>\n",
       "      <td>14.2942</td>\n",
       "      <td>1901</td>\n",
       "      <td>April</td>\n",
       "    </tr>\n",
       "    <tr>\n",
       "      <th>4</th>\n",
       "      <td>38.3046</td>\n",
       "      <td>1901</td>\n",
       "      <td>May</td>\n",
       "    </tr>\n",
       "  </tbody>\n",
       "</table>\n",
       "</div>"
      ],
      "text/plain": [
       "   Rainfall - (MM)   Year     Month\n",
       "0          40.4258   1901   January\n",
       "1          12.3022   1901  February\n",
       "2          25.5119   1901     March\n",
       "3          14.2942   1901     April\n",
       "4          38.3046   1901       May"
      ]
     },
     "execution_count": 3,
     "metadata": {},
     "output_type": "execute_result"
    }
   ],
   "source": [
    "df.head()"
   ]
  },
  {
   "cell_type": "code",
   "execution_count": 4,
   "id": "1f05e596",
   "metadata": {},
   "outputs": [],
   "source": [
    "df['Date']=df[' Year'].astype(str)+df['Month'].astype(str)"
   ]
  },
  {
   "cell_type": "code",
   "execution_count": 5,
   "id": "c80c5cfc",
   "metadata": {},
   "outputs": [
    {
     "name": "stdout",
     "output_type": "stream",
     "text": [
      "<class 'pandas.core.frame.DataFrame'>\n",
      "RangeIndex: 1392 entries, 0 to 1391\n",
      "Data columns (total 4 columns):\n",
      " #   Column           Non-Null Count  Dtype  \n",
      "---  ------           --------------  -----  \n",
      " 0   Rainfall - (MM)  1392 non-null   float64\n",
      " 1    Year            1392 non-null   int64  \n",
      " 2   Month            1392 non-null   object \n",
      " 3   Date             1392 non-null   object \n",
      "dtypes: float64(1), int64(1), object(2)\n",
      "memory usage: 43.6+ KB\n"
     ]
    }
   ],
   "source": [
    "df.info()"
   ]
  },
  {
   "cell_type": "code",
   "execution_count": 6,
   "id": "f95cceb0",
   "metadata": {},
   "outputs": [],
   "source": [
    "df.drop(['Month'],axis=1,inplace=True)"
   ]
  },
  {
   "cell_type": "code",
   "execution_count": 7,
   "id": "dc0b6721",
   "metadata": {},
   "outputs": [],
   "source": [
    "df.drop([' Year'],axis=1,inplace=True)"
   ]
  },
  {
   "cell_type": "code",
   "execution_count": 8,
   "id": "9f4d8a53",
   "metadata": {},
   "outputs": [
    {
     "data": {
      "text/html": [
       "<div>\n",
       "<style scoped>\n",
       "    .dataframe tbody tr th:only-of-type {\n",
       "        vertical-align: middle;\n",
       "    }\n",
       "\n",
       "    .dataframe tbody tr th {\n",
       "        vertical-align: top;\n",
       "    }\n",
       "\n",
       "    .dataframe thead th {\n",
       "        text-align: right;\n",
       "    }\n",
       "</style>\n",
       "<table border=\"1\" class=\"dataframe\">\n",
       "  <thead>\n",
       "    <tr style=\"text-align: right;\">\n",
       "      <th></th>\n",
       "      <th>Rainfall</th>\n",
       "      <th>Date</th>\n",
       "    </tr>\n",
       "  </thead>\n",
       "  <tbody>\n",
       "    <tr>\n",
       "      <th>0</th>\n",
       "      <td>40.42580</td>\n",
       "      <td>1901January</td>\n",
       "    </tr>\n",
       "    <tr>\n",
       "      <th>1</th>\n",
       "      <td>12.30220</td>\n",
       "      <td>1901February</td>\n",
       "    </tr>\n",
       "    <tr>\n",
       "      <th>2</th>\n",
       "      <td>25.51190</td>\n",
       "      <td>1901March</td>\n",
       "    </tr>\n",
       "    <tr>\n",
       "      <th>3</th>\n",
       "      <td>14.29420</td>\n",
       "      <td>1901April</td>\n",
       "    </tr>\n",
       "    <tr>\n",
       "      <th>4</th>\n",
       "      <td>38.30460</td>\n",
       "      <td>1901May</td>\n",
       "    </tr>\n",
       "    <tr>\n",
       "      <th>...</th>\n",
       "      <td>...</td>\n",
       "      <td>...</td>\n",
       "    </tr>\n",
       "    <tr>\n",
       "      <th>1387</th>\n",
       "      <td>60.60610</td>\n",
       "      <td>2016August</td>\n",
       "    </tr>\n",
       "    <tr>\n",
       "      <th>1388</th>\n",
       "      <td>13.76940</td>\n",
       "      <td>2016September</td>\n",
       "    </tr>\n",
       "    <tr>\n",
       "      <th>1389</th>\n",
       "      <td>1.07552</td>\n",
       "      <td>2016October</td>\n",
       "    </tr>\n",
       "    <tr>\n",
       "      <th>1390</th>\n",
       "      <td>2.88480</td>\n",
       "      <td>2016November</td>\n",
       "    </tr>\n",
       "    <tr>\n",
       "      <th>1391</th>\n",
       "      <td>7.82298</td>\n",
       "      <td>2016December</td>\n",
       "    </tr>\n",
       "  </tbody>\n",
       "</table>\n",
       "<p>1392 rows × 2 columns</p>\n",
       "</div>"
      ],
      "text/plain": [
       "      Rainfall           Date\n",
       "0     40.42580    1901January\n",
       "1     12.30220   1901February\n",
       "2     25.51190      1901March\n",
       "3     14.29420      1901April\n",
       "4     38.30460        1901May\n",
       "...        ...            ...\n",
       "1387  60.60610     2016August\n",
       "1388  13.76940  2016September\n",
       "1389   1.07552    2016October\n",
       "1390   2.88480   2016November\n",
       "1391   7.82298   2016December\n",
       "\n",
       "[1392 rows x 2 columns]"
      ]
     },
     "execution_count": 8,
     "metadata": {},
     "output_type": "execute_result"
    }
   ],
   "source": [
    "data=df.rename(columns={'Rainfall - (MM)':'Rainfall'})\n",
    "data"
   ]
  },
  {
   "cell_type": "code",
   "execution_count": 9,
   "id": "28bf12b8",
   "metadata": {},
   "outputs": [
    {
     "data": {
      "text/html": [
       "<div>\n",
       "<style scoped>\n",
       "    .dataframe tbody tr th:only-of-type {\n",
       "        vertical-align: middle;\n",
       "    }\n",
       "\n",
       "    .dataframe tbody tr th {\n",
       "        vertical-align: top;\n",
       "    }\n",
       "\n",
       "    .dataframe thead th {\n",
       "        text-align: right;\n",
       "    }\n",
       "</style>\n",
       "<table border=\"1\" class=\"dataframe\">\n",
       "  <thead>\n",
       "    <tr style=\"text-align: right;\">\n",
       "      <th></th>\n",
       "      <th>Rainfall</th>\n",
       "      <th>Date</th>\n",
       "    </tr>\n",
       "  </thead>\n",
       "  <tbody>\n",
       "    <tr>\n",
       "      <th>0</th>\n",
       "      <td>40.42580</td>\n",
       "      <td>1901January</td>\n",
       "    </tr>\n",
       "    <tr>\n",
       "      <th>1</th>\n",
       "      <td>12.30220</td>\n",
       "      <td>1901February</td>\n",
       "    </tr>\n",
       "    <tr>\n",
       "      <th>2</th>\n",
       "      <td>25.51190</td>\n",
       "      <td>1901March</td>\n",
       "    </tr>\n",
       "    <tr>\n",
       "      <th>3</th>\n",
       "      <td>14.29420</td>\n",
       "      <td>1901April</td>\n",
       "    </tr>\n",
       "    <tr>\n",
       "      <th>4</th>\n",
       "      <td>38.30460</td>\n",
       "      <td>1901May</td>\n",
       "    </tr>\n",
       "    <tr>\n",
       "      <th>...</th>\n",
       "      <td>...</td>\n",
       "      <td>...</td>\n",
       "    </tr>\n",
       "    <tr>\n",
       "      <th>1387</th>\n",
       "      <td>60.60610</td>\n",
       "      <td>2016August</td>\n",
       "    </tr>\n",
       "    <tr>\n",
       "      <th>1388</th>\n",
       "      <td>13.76940</td>\n",
       "      <td>2016September</td>\n",
       "    </tr>\n",
       "    <tr>\n",
       "      <th>1389</th>\n",
       "      <td>1.07552</td>\n",
       "      <td>2016October</td>\n",
       "    </tr>\n",
       "    <tr>\n",
       "      <th>1390</th>\n",
       "      <td>2.88480</td>\n",
       "      <td>2016November</td>\n",
       "    </tr>\n",
       "    <tr>\n",
       "      <th>1391</th>\n",
       "      <td>7.82298</td>\n",
       "      <td>2016December</td>\n",
       "    </tr>\n",
       "  </tbody>\n",
       "</table>\n",
       "<p>1392 rows × 2 columns</p>\n",
       "</div>"
      ],
      "text/plain": [
       "      Rainfall           Date\n",
       "0     40.42580    1901January\n",
       "1     12.30220   1901February\n",
       "2     25.51190      1901March\n",
       "3     14.29420      1901April\n",
       "4     38.30460        1901May\n",
       "...        ...            ...\n",
       "1387  60.60610     2016August\n",
       "1388  13.76940  2016September\n",
       "1389   1.07552    2016October\n",
       "1390   2.88480   2016November\n",
       "1391   7.82298   2016December\n",
       "\n",
       "[1392 rows x 2 columns]"
      ]
     },
     "execution_count": 9,
     "metadata": {},
     "output_type": "execute_result"
    }
   ],
   "source": [
    "data"
   ]
  },
  {
   "cell_type": "code",
   "execution_count": 10,
   "id": "6ede0016",
   "metadata": {},
   "outputs": [
    {
     "name": "stdout",
     "output_type": "stream",
     "text": [
      "      Rainfall       Date\n",
      "0     40.42580 1901-01-01\n",
      "1     12.30220 1901-02-01\n",
      "2     25.51190 1901-03-01\n",
      "3     14.29420 1901-04-01\n",
      "4     38.30460 1901-05-01\n",
      "...        ...        ...\n",
      "1387  60.60610 2016-08-01\n",
      "1388  13.76940 2016-09-01\n",
      "1389   1.07552 2016-10-01\n",
      "1390   2.88480 2016-11-01\n",
      "1391   7.82298 2016-12-01\n",
      "\n",
      "[1392 rows x 2 columns]\n"
     ]
    }
   ],
   "source": [
    "data['Date'] = pd.to_datetime(data['Date'], format='%Y%B')\n",
    "print (data)"
   ]
  },
  {
   "cell_type": "code",
   "execution_count": 33,
   "id": "489f480d",
   "metadata": {},
   "outputs": [
    {
     "data": {
      "text/html": [
       "<div>\n",
       "<style scoped>\n",
       "    .dataframe tbody tr th:only-of-type {\n",
       "        vertical-align: middle;\n",
       "    }\n",
       "\n",
       "    .dataframe tbody tr th {\n",
       "        vertical-align: top;\n",
       "    }\n",
       "\n",
       "    .dataframe thead th {\n",
       "        text-align: right;\n",
       "    }\n",
       "</style>\n",
       "<table border=\"1\" class=\"dataframe\">\n",
       "  <thead>\n",
       "    <tr style=\"text-align: right;\">\n",
       "      <th></th>\n",
       "      <th>Rainfall</th>\n",
       "      <th>Date</th>\n",
       "    </tr>\n",
       "  </thead>\n",
       "  <tbody>\n",
       "    <tr>\n",
       "      <th>0</th>\n",
       "      <td>40.42580</td>\n",
       "      <td>1901-01-01</td>\n",
       "    </tr>\n",
       "    <tr>\n",
       "      <th>1</th>\n",
       "      <td>12.30220</td>\n",
       "      <td>1901-02-01</td>\n",
       "    </tr>\n",
       "    <tr>\n",
       "      <th>2</th>\n",
       "      <td>25.51190</td>\n",
       "      <td>1901-03-01</td>\n",
       "    </tr>\n",
       "    <tr>\n",
       "      <th>3</th>\n",
       "      <td>14.29420</td>\n",
       "      <td>1901-04-01</td>\n",
       "    </tr>\n",
       "    <tr>\n",
       "      <th>4</th>\n",
       "      <td>38.30460</td>\n",
       "      <td>1901-05-01</td>\n",
       "    </tr>\n",
       "    <tr>\n",
       "      <th>...</th>\n",
       "      <td>...</td>\n",
       "      <td>...</td>\n",
       "    </tr>\n",
       "    <tr>\n",
       "      <th>1387</th>\n",
       "      <td>60.60610</td>\n",
       "      <td>2016-08-01</td>\n",
       "    </tr>\n",
       "    <tr>\n",
       "      <th>1388</th>\n",
       "      <td>13.76940</td>\n",
       "      <td>2016-09-01</td>\n",
       "    </tr>\n",
       "    <tr>\n",
       "      <th>1389</th>\n",
       "      <td>1.07552</td>\n",
       "      <td>2016-10-01</td>\n",
       "    </tr>\n",
       "    <tr>\n",
       "      <th>1390</th>\n",
       "      <td>2.88480</td>\n",
       "      <td>2016-11-01</td>\n",
       "    </tr>\n",
       "    <tr>\n",
       "      <th>1391</th>\n",
       "      <td>7.82298</td>\n",
       "      <td>2016-12-01</td>\n",
       "    </tr>\n",
       "  </tbody>\n",
       "</table>\n",
       "<p>1392 rows × 2 columns</p>\n",
       "</div>"
      ],
      "text/plain": [
       "      Rainfall       Date\n",
       "0     40.42580 1901-01-01\n",
       "1     12.30220 1901-02-01\n",
       "2     25.51190 1901-03-01\n",
       "3     14.29420 1901-04-01\n",
       "4     38.30460 1901-05-01\n",
       "...        ...        ...\n",
       "1387  60.60610 2016-08-01\n",
       "1388  13.76940 2016-09-01\n",
       "1389   1.07552 2016-10-01\n",
       "1390   2.88480 2016-11-01\n",
       "1391   7.82298 2016-12-01\n",
       "\n",
       "[1392 rows x 2 columns]"
      ]
     },
     "execution_count": 33,
     "metadata": {},
     "output_type": "execute_result"
    }
   ],
   "source": [
    "data"
   ]
  },
  {
   "cell_type": "code",
   "execution_count": 34,
   "id": "c53f457a",
   "metadata": {},
   "outputs": [
    {
     "data": {
      "text/plain": [
       "Rainfall    0\n",
       "Date        0\n",
       "dtype: int64"
      ]
     },
     "execution_count": 34,
     "metadata": {},
     "output_type": "execute_result"
    }
   ],
   "source": [
    "data.isna().sum()"
   ]
  },
  {
   "cell_type": "code",
   "execution_count": 35,
   "id": "c597b0aa",
   "metadata": {},
   "outputs": [
    {
     "data": {
      "image/png": "[encoded data removed]",
      "text/plain": [
       "<Figure size 864x360 with 1 Axes>"
      ]
     },
     "metadata": {
      "needs_background": "light"
     },
     "output_type": "display_data"
    }
   ],
   "source": [
    "data['Rainfall'].plot(figsize=(12,5));"
   ]
  },
  {
   "cell_type": "code",
   "execution_count": 36,
   "id": "5fc3dfbe",
   "metadata": {},
   "outputs": [
    {
     "data": {
      "text/plain": [
       "(-6.695889008362779,\n",
       " 4.000735413147937e-09,\n",
       " 23,\n",
       " 1368,\n",
       " {'1%': -3.435139190725917,\n",
       "  '5%': -2.8636550704859007,\n",
       "  '10%': -2.5678960623995417},\n",
       " 11800.671679806295)"
      ]
     },
     "execution_count": 36,
     "metadata": {},
     "output_type": "execute_result"
    }
   ],
   "source": [
    "from statsmodels.tsa.stattools import adfuller\n",
    "df_test = adfuller(data['Rainfall'],autolag = 'AIC')\n",
    "df_test"
   ]
  },
  {
   "cell_type": "code",
   "execution_count": 37,
   "id": "5e6bcb80",
   "metadata": {},
   "outputs": [],
   "source": [
    "from pmdarima import auto_arima\n",
    "import warnings\n",
    "warnings.filterwarnings(\"ignore\")"
   ]
  },
  {
   "cell_type": "code",
   "execution_count": 38,
   "id": "7d09573a",
   "metadata": {},
   "outputs": [
    {
     "data": {
      "text/html": [
       "<table class=\"simpletable\">\n",
       "<caption>SARIMAX Results</caption>\n",
       "<tr>\n",
       "  <th>Dep. Variable:</th>           <td>y</td>        <th>  No. Observations:  </th>   <td>1392</td>   \n",
       "</tr>\n",
       "<tr>\n",
       "  <th>Model:</th>           <td>SARIMAX(2, 0, 3)</td> <th>  Log Likelihood     </th> <td>-6075.834</td>\n",
       "</tr>\n",
       "<tr>\n",
       "  <th>Date:</th>            <td>Thu, 09 Dec 2021</td> <th>  AIC                </th> <td>12165.669</td>\n",
       "</tr>\n",
       "<tr>\n",
       "  <th>Time:</th>                <td>16:50:55</td>     <th>  BIC                </th> <td>12202.338</td>\n",
       "</tr>\n",
       "<tr>\n",
       "  <th>Sample:</th>                  <td>0</td>        <th>  HQIC               </th> <td>12179.381</td>\n",
       "</tr>\n",
       "<tr>\n",
       "  <th></th>                      <td> - 1392</td>     <th>                     </th>     <td> </td>    \n",
       "</tr>\n",
       "<tr>\n",
       "  <th>Covariance Type:</th>        <td>opg</td>       <th>                     </th>     <td> </td>    \n",
       "</tr>\n",
       "</table>\n",
       "<table class=\"simpletable\">\n",
       "<tr>\n",
       "      <td></td>         <th>coef</th>     <th>std err</th>      <th>z</th>      <th>P>|z|</th>  <th>[0.025</th>    <th>0.975]</th>  \n",
       "</tr>\n",
       "<tr>\n",
       "  <th>intercept</th> <td>   24.1773</td> <td>    0.937</td> <td>   25.805</td> <td> 0.000</td> <td>   22.341</td> <td>   26.014</td>\n",
       "</tr>\n",
       "<tr>\n",
       "  <th>ar.L1</th>     <td>    0.9985</td> <td>    0.002</td> <td>  405.029</td> <td> 0.000</td> <td>    0.994</td> <td>    1.003</td>\n",
       "</tr>\n",
       "<tr>\n",
       "  <th>ar.L2</th>     <td>   -0.9969</td> <td>    0.002</td> <td> -449.543</td> <td> 0.000</td> <td>   -1.001</td> <td>   -0.993</td>\n",
       "</tr>\n",
       "<tr>\n",
       "  <th>ma.L1</th>     <td>   -0.7936</td> <td>    0.026</td> <td>  -30.880</td> <td> 0.000</td> <td>   -0.844</td> <td>   -0.743</td>\n",
       "</tr>\n",
       "<tr>\n",
       "  <th>ma.L2</th>     <td>    0.7988</td> <td>    0.025</td> <td>   31.953</td> <td> 0.000</td> <td>    0.750</td> <td>    0.848</td>\n",
       "</tr>\n",
       "<tr>\n",
       "  <th>ma.L3</th>     <td>    0.1809</td> <td>    0.025</td> <td>    7.228</td> <td> 0.000</td> <td>    0.132</td> <td>    0.230</td>\n",
       "</tr>\n",
       "<tr>\n",
       "  <th>sigma2</th>    <td>  372.2367</td> <td>   10.794</td> <td>   34.485</td> <td> 0.000</td> <td>  351.081</td> <td>  393.393</td>\n",
       "</tr>\n",
       "</table>\n",
       "<table class=\"simpletable\">\n",
       "<tr>\n",
       "  <th>Ljung-Box (L1) (Q):</th>     <td>0.27</td> <th>  Jarque-Bera (JB):  </th> <td>2094.65</td>\n",
       "</tr>\n",
       "<tr>\n",
       "  <th>Prob(Q):</th>                <td>0.60</td> <th>  Prob(JB):          </th>  <td>0.00</td>  \n",
       "</tr>\n",
       "<tr>\n",
       "  <th>Heteroskedasticity (H):</th> <td>0.83</td> <th>  Skew:              </th>  <td>1.65</td>  \n",
       "</tr>\n",
       "<tr>\n",
       "  <th>Prob(H) (two-sided):</th>    <td>0.05</td> <th>  Kurtosis:          </th>  <td>8.02</td>  \n",
       "</tr>\n",
       "</table><br/><br/>Warnings:<br/>[1] Covariance matrix calculated using the outer product of gradients (complex-step)."
      ],
      "text/plain": [
       "<class 'statsmodels.iolib.summary.Summary'>\n",
       "\"\"\"\n",
       "                               SARIMAX Results                                \n",
       "==============================================================================\n",
       "Dep. Variable:                      y   No. Observations:                 1392\n",
       "Model:               SARIMAX(2, 0, 3)   Log Likelihood               -6075.834\n",
       "Date:                Thu, 09 Dec 2021   AIC                          12165.669\n",
       "Time:                        16:50:55   BIC                          12202.338\n",
       "Sample:                             0   HQIC                         12179.381\n",
       "                               - 1392                                         \n",
       "Covariance Type:                  opg                                         \n",
       "==============================================================================\n",
       "                 coef    std err          z      P>|z|      [0.025      0.975]\n",
       "------------------------------------------------------------------------------\n",
       "intercept     24.1773      0.937     25.805      0.000      22.341      26.014\n",
       "ar.L1          0.9985      0.002    405.029      0.000       0.994       1.003\n",
       "ar.L2         -0.9969      0.002   -449.543      0.000      -1.001      -0.993\n",
       "ma.L1         -0.7936      0.026    -30.880      0.000      -0.844      -0.743\n",
       "ma.L2          0.7988      0.025     31.953      0.000       0.750       0.848\n",
       "ma.L3          0.1809      0.025      7.228      0.000       0.132       0.230\n",
       "sigma2       372.2367     10.794     34.485      0.000     351.081     393.393\n",
       "===================================================================================\n",
       "Ljung-Box (L1) (Q):                   0.27   Jarque-Bera (JB):              2094.65\n",
       "Prob(Q):                              0.60   Prob(JB):                         0.00\n",
       "Heteroskedasticity (H):               0.83   Skew:                             1.65\n",
       "Prob(H) (two-sided):                  0.05   Kurtosis:                         8.02\n",
       "===================================================================================\n",
       "\n",
       "Warnings:\n",
       "[1] Covariance matrix calculated using the outer product of gradients (complex-step).\n",
       "\"\"\""
      ]
     },
     "execution_count": 38,
     "metadata": {},
     "output_type": "execute_result"
    }
   ],
   "source": [
    "stepwise_fit = auto_arima(data['Rainfall'], \n",
    "                          suppress_warnings=True)           \n",
    "\n",
    "stepwise_fit.summary()"
   ]
  },
  {
   "cell_type": "code",
   "execution_count": 39,
   "id": "f243b9ba",
   "metadata": {},
   "outputs": [],
   "source": [
    "from statsmodels.tsa.arima_model import ARIMA"
   ]
  },
  {
   "cell_type": "code",
   "execution_count": 48,
   "id": "526de350",
   "metadata": {},
   "outputs": [
    {
     "name": "stdout",
     "output_type": "stream",
     "text": [
      "(1392, 2)\n",
      "(1362, 2) (30, 2)\n",
      "Rainfall                30.8147\n",
      "Date        2014-07-01 00:00:00\n",
      "Name: 1362, dtype: object Rainfall                7.82298\n",
      "Date        2016-12-01 00:00:00\n",
      "Name: 1391, dtype: object\n"
     ]
    }
   ],
   "source": [
    "print(df.shape)\n",
    "train=data.iloc[:-30]\n",
    "test=data.iloc[-30:]\n",
    "print(train.shape,test.shape)\n",
    "print(test.iloc[0],test.iloc[-1])"
   ]
  },
  {
   "cell_type": "code",
   "execution_count": 49,
   "id": "cffc40f6",
   "metadata": {},
   "outputs": [
    {
     "data": {
      "text/html": [
       "<table class=\"simpletable\">\n",
       "<caption>SARIMAX Results</caption>\n",
       "<tr>\n",
       "  <th>Dep. Variable:</th>       <td>Rainfall</td>     <th>  No. Observations:  </th>   <td>1392</td>   \n",
       "</tr>\n",
       "<tr>\n",
       "  <th>Model:</th>            <td>ARIMA(2, 0, 3)</td>  <th>  Log Likelihood     </th> <td>-6065.922</td>\n",
       "</tr>\n",
       "<tr>\n",
       "  <th>Date:</th>            <td>Thu, 09 Dec 2021</td> <th>  AIC                </th> <td>12145.844</td>\n",
       "</tr>\n",
       "<tr>\n",
       "  <th>Time:</th>                <td>16:53:25</td>     <th>  BIC                </th> <td>12182.513</td>\n",
       "</tr>\n",
       "<tr>\n",
       "  <th>Sample:</th>                  <td>0</td>        <th>  HQIC               </th> <td>12159.556</td>\n",
       "</tr>\n",
       "<tr>\n",
       "  <th></th>                      <td> - 1392</td>     <th>                     </th>     <td> </td>    \n",
       "</tr>\n",
       "<tr>\n",
       "  <th>Covariance Type:</th>        <td>opg</td>       <th>                     </th>     <td> </td>    \n",
       "</tr>\n",
       "</table>\n",
       "<table class=\"simpletable\">\n",
       "<tr>\n",
       "     <td></td>       <th>coef</th>     <th>std err</th>      <th>z</th>      <th>P>|z|</th>  <th>[0.025</th>    <th>0.975]</th>  \n",
       "</tr>\n",
       "<tr>\n",
       "  <th>const</th>  <td>   25.2144</td> <td>    0.824</td> <td>   30.612</td> <td> 0.000</td> <td>   23.600</td> <td>   26.829</td>\n",
       "</tr>\n",
       "<tr>\n",
       "  <th>ar.L1</th>  <td>    1.0003</td> <td>    0.000</td> <td> 2202.853</td> <td> 0.000</td> <td>    0.999</td> <td>    1.001</td>\n",
       "</tr>\n",
       "<tr>\n",
       "  <th>ar.L2</th>  <td>   -0.9999</td> <td>    0.000</td> <td>-3328.012</td> <td> 0.000</td> <td>   -1.000</td> <td>   -0.999</td>\n",
       "</tr>\n",
       "<tr>\n",
       "  <th>ma.L1</th>  <td>   -0.8083</td> <td>    0.038</td> <td>  -21.445</td> <td> 0.000</td> <td>   -0.882</td> <td>   -0.734</td>\n",
       "</tr>\n",
       "<tr>\n",
       "  <th>ma.L2</th>  <td>    0.8013</td> <td>    0.058</td> <td>   13.922</td> <td> 0.000</td> <td>    0.688</td> <td>    0.914</td>\n",
       "</tr>\n",
       "<tr>\n",
       "  <th>ma.L3</th>  <td>    0.1971</td> <td>    0.026</td> <td>    7.614</td> <td> 0.000</td> <td>    0.146</td> <td>    0.248</td>\n",
       "</tr>\n",
       "<tr>\n",
       "  <th>sigma2</th> <td>  349.2137</td> <td>   21.704</td> <td>   16.090</td> <td> 0.000</td> <td>  306.674</td> <td>  391.753</td>\n",
       "</tr>\n",
       "</table>\n",
       "<table class=\"simpletable\">\n",
       "<tr>\n",
       "  <th>Ljung-Box (L1) (Q):</th>     <td>0.11</td> <th>  Jarque-Bera (JB):  </th> <td>1906.55</td>\n",
       "</tr>\n",
       "<tr>\n",
       "  <th>Prob(Q):</th>                <td>0.74</td> <th>  Prob(JB):          </th>  <td>0.00</td>  \n",
       "</tr>\n",
       "<tr>\n",
       "  <th>Heteroskedasticity (H):</th> <td>0.83</td> <th>  Skew:              </th>  <td>1.60</td>  \n",
       "</tr>\n",
       "<tr>\n",
       "  <th>Prob(H) (two-sided):</th>    <td>0.04</td> <th>  Kurtosis:          </th>  <td>7.75</td>  \n",
       "</tr>\n",
       "</table><br/><br/>Warnings:<br/>[1] Covariance matrix calculated using the outer product of gradients (complex-step)."
      ],
      "text/plain": [
       "<class 'statsmodels.iolib.summary.Summary'>\n",
       "\"\"\"\n",
       "                               SARIMAX Results                                \n",
       "==============================================================================\n",
       "Dep. Variable:               Rainfall   No. Observations:                 1392\n",
       "Model:                 ARIMA(2, 0, 3)   Log Likelihood               -6065.922\n",
       "Date:                Thu, 09 Dec 2021   AIC                          12145.844\n",
       "Time:                        16:53:25   BIC                          12182.513\n",
       "Sample:                             0   HQIC                         12159.556\n",
       "                               - 1392                                         \n",
       "Covariance Type:                  opg                                         \n",
       "==============================================================================\n",
       "                 coef    std err          z      P>|z|      [0.025      0.975]\n",
       "------------------------------------------------------------------------------\n",
       "const         25.2144      0.824     30.612      0.000      23.600      26.829\n",
       "ar.L1          1.0003      0.000   2202.853      0.000       0.999       1.001\n",
       "ar.L2         -0.9999      0.000  -3328.012      0.000      -1.000      -0.999\n",
       "ma.L1         -0.8083      0.038    -21.445      0.000      -0.882      -0.734\n",
       "ma.L2          0.8013      0.058     13.922      0.000       0.688       0.914\n",
       "ma.L3          0.1971      0.026      7.614      0.000       0.146       0.248\n",
       "sigma2       349.2137     21.704     16.090      0.000     306.674     391.753\n",
       "===================================================================================\n",
       "Ljung-Box (L1) (Q):                   0.11   Jarque-Bera (JB):              1906.55\n",
       "Prob(Q):                              0.74   Prob(JB):                         0.00\n",
       "Heteroskedasticity (H):               0.83   Skew:                             1.60\n",
       "Prob(H) (two-sided):                  0.04   Kurtosis:                         7.75\n",
       "===================================================================================\n",
       "\n",
       "Warnings:\n",
       "[1] Covariance matrix calculated using the outer product of gradients (complex-step).\n",
       "\"\"\""
      ]
     },
     "execution_count": 49,
     "metadata": {},
     "output_type": "execute_result"
    }
   ],
   "source": [
    "from statsmodels.tsa.arima.model import ARIMA \n",
    "model = ARIMA(data['Rainfall'], order=(2,0,3))\n",
    "model=model.fit()\n",
    "model.summary()"
   ]
  },
  {
   "cell_type": "code",
   "execution_count": 50,
   "id": "fe0cad1f",
   "metadata": {},
   "outputs": [
    {
     "name": "stdout",
     "output_type": "stream",
     "text": [
      "1362\n",
      "1391\n",
      "1362    34.610404\n",
      "1363    40.611538\n",
      "1364    27.979440\n",
      "1365    15.428464\n",
      "1366     7.951250\n",
      "1367    20.849131\n",
      "1368    32.610754\n",
      "1369    38.369331\n",
      "1370    28.761295\n",
      "1371    21.837649\n",
      "1372    10.949619\n",
      "1373    21.686242\n",
      "1374    38.018582\n",
      "1375    48.473856\n",
      "1376    34.276323\n",
      "1377    12.066386\n",
      "1378     9.169939\n",
      "1379    20.292410\n",
      "1380    34.006985\n",
      "1381    38.333269\n",
      "1382    24.521210\n",
      "1383    20.257498\n",
      "1384     8.429696\n",
      "1385    21.792186\n",
      "1386    36.984391\n",
      "1387    45.712210\n",
      "1388    33.292621\n",
      "1389     9.909122\n",
      "1390     6.954725\n",
      "1391    19.388111\n",
      "Name: predicted_mean, dtype: float64\n"
     ]
    }
   ],
   "source": [
    "start=len(train)\n",
    "print(start)\n",
    "print(end)\n",
    "end=len(train)+len(test)-1\n",
    "pred=model.predict(start=start,end=end,typ='levels')\n",
    "print(pred)"
   ]
  },
  {
   "cell_type": "code",
   "execution_count": 51,
   "id": "8a7e3bdd",
   "metadata": {},
   "outputs": [
    {
     "data": {
      "text/plain": [
       "<AxesSubplot:>"
      ]
     },
     "execution_count": 51,
     "metadata": {},
     "output_type": "execute_result"
    },
    {
     "data": {
      "image/png": "[encoded data removed]",
      "text/plain": [
       "<Figure size 432x288 with 1 Axes>"
      ]
     },
     "metadata": {
      "needs_background": "light"
     },
     "output_type": "display_data"
    }
   ],
   "source": [
    "pred.plot(legend='ARIMA Predictions')\n",
    "test['Rainfall'].plot(legend=True)"
   ]
  },
  {
   "cell_type": "code",
   "execution_count": 52,
   "id": "021979ce",
   "metadata": {},
   "outputs": [
    {
     "name": "stdout",
     "output_type": "stream",
     "text": [
      "16.815400704556517\n"
     ]
    }
   ],
   "source": [
    "from sklearn.metrics import mean_squared_error\n",
    "from math import sqrt\n",
    "rmse=sqrt(mean_squared_error(pred,test['Rainfall']))\n",
    "print(rmse)"
   ]
  },
  {
   "cell_type": "code",
   "execution_count": 54,
   "id": "fd816102",
   "metadata": {},
   "outputs": [
    {
     "data": {
      "text/html": [
       "<div>\n",
       "<style scoped>\n",
       "    .dataframe tbody tr th:only-of-type {\n",
       "        vertical-align: middle;\n",
       "    }\n",
       "\n",
       "    .dataframe tbody tr th {\n",
       "        vertical-align: top;\n",
       "    }\n",
       "\n",
       "    .dataframe thead th {\n",
       "        text-align: right;\n",
       "    }\n",
       "</style>\n",
       "<table border=\"1\" class=\"dataframe\">\n",
       "  <thead>\n",
       "    <tr style=\"text-align: right;\">\n",
       "      <th></th>\n",
       "      <th>Rainfall</th>\n",
       "      <th>Date</th>\n",
       "    </tr>\n",
       "  </thead>\n",
       "  <tbody>\n",
       "    <tr>\n",
       "      <th>1387</th>\n",
       "      <td>60.60610</td>\n",
       "      <td>2016-08-01</td>\n",
       "    </tr>\n",
       "    <tr>\n",
       "      <th>1388</th>\n",
       "      <td>13.76940</td>\n",
       "      <td>2016-09-01</td>\n",
       "    </tr>\n",
       "    <tr>\n",
       "      <th>1389</th>\n",
       "      <td>1.07552</td>\n",
       "      <td>2016-10-01</td>\n",
       "    </tr>\n",
       "    <tr>\n",
       "      <th>1390</th>\n",
       "      <td>2.88480</td>\n",
       "      <td>2016-11-01</td>\n",
       "    </tr>\n",
       "    <tr>\n",
       "      <th>1391</th>\n",
       "      <td>7.82298</td>\n",
       "      <td>2016-12-01</td>\n",
       "    </tr>\n",
       "  </tbody>\n",
       "</table>\n",
       "</div>"
      ],
      "text/plain": [
       "      Rainfall       Date\n",
       "1387  60.60610 2016-08-01\n",
       "1388  13.76940 2016-09-01\n",
       "1389   1.07552 2016-10-01\n",
       "1390   2.88480 2016-11-01\n",
       "1391   7.82298 2016-12-01"
      ]
     },
     "execution_count": 54,
     "metadata": {},
     "output_type": "execute_result"
    }
   ],
   "source": [
    "model2=ARIMA(data['Rainfall'],order=(2,0,3))\n",
    "model2=model2.fit()\n",
    "data.tail()"
   ]
  },
  {
   "cell_type": "code",
   "execution_count": 68,
   "id": "25e9edeb",
   "metadata": {},
   "outputs": [
    {
     "name": "stdout",
     "output_type": "stream",
     "text": [
      "2017-01-01    34.490312\n",
      "2017-01-02    41.824010\n",
      "2017-01-03    30.276569\n",
      "2017-01-04    13.670463\n",
      "2017-01-05     8.605965\n",
      "2017-01-06    20.144068\n",
      "2017-01-07    36.748993\n",
      "2017-01-08    41.821646\n",
      "2017-01-09    30.292881\n",
      "2017-01-10    13.689143\n",
      "2017-01-11     8.608340\n",
      "2017-01-12    20.127765\n",
      "2017-01-13    36.730312\n",
      "2017-01-14    41.819260\n",
      "2017-01-15    30.309174\n",
      "2017-01-16    13.707825\n",
      "2017-01-17     8.610736\n",
      "2017-01-18    20.111483\n",
      "2017-01-19    36.711630\n",
      "2017-01-20    41.816853\n",
      "2017-01-21    30.325446\n",
      "2017-01-22    13.726508\n",
      "2017-01-23     8.613155\n",
      "2017-01-24    20.095222\n",
      "2017-01-25    36.692946\n",
      "2017-01-26    41.814424\n",
      "2017-01-27    30.341697\n",
      "2017-01-28    13.745193\n",
      "2017-01-29     8.615595\n",
      "2017-01-30    20.078980\n",
      "2017-01-31    36.674260\n",
      "2017-02-01    41.811973\n",
      "Freq: D, Name: ARIMA Predictions, dtype: float64\n"
     ]
    }
   ],
   "source": [
    "index_future_dates=pd.date_range(start='2017-01-01',end='2017-02-01')\n",
    "#print(index_future_dates)\n",
    "pred=model2.predict(start=len(data),end=len(data)+31,typ='levels').rename('ARIMA Predictions')\n",
    "#print(comp_pred)\n",
    "pred.index=index_future_dates\n",
    "print(pred)"
   ]
  },
  {
   "cell_type": "code",
   "execution_count": 69,
   "id": "a05cf981",
   "metadata": {},
   "outputs": [
    {
     "data": {
      "text/plain": [
       "<AxesSubplot:>"
      ]
     },
     "execution_count": 69,
     "metadata": {},
     "output_type": "execute_result"
    },
    {
     "data": {
      "image/png": "[encoded data removed]",
      "text/plain": [
       "<Figure size 864x360 with 1 Axes>"
      ]
     },
     "metadata": {
      "needs_background": "light"
     },
     "output_type": "display_data"
    }
   ],
   "source": [
    "pred.plot(figsize=(12,5),legend=True)"
   ]
  },
  {
   "cell_type": "code",
   "execution_count": null,
   "id": "4d3659b9",
   "metadata": {},
   "outputs": [],
   "source": []
  }
 ],
 "metadata": {
  "kernelspec": {
   "display_name": "Python 3 (ipykernel)",
   "language": "python",
   "name": "python3"
  },
  "language_info": {
   "codemirror_mode": {
    "name": "ipython",
    "version": 3
   },
   "file_extension": ".py",
   "mimetype": "text/x-python",
   "name": "python",
   "nbconvert_exporter": "python",
   "pygments_lexer": "ipython3",
   "version": "3.8.10"
  }
 },
 "nbformat": 4,
 "nbformat_minor": 5
}
